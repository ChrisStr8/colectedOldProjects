{
 "cells": [
  {
   "cell_type": "code",
   "execution_count": 2,
   "metadata": {},
   "outputs": [],
   "source": [
    "\"\"\" (phase.py) simulating from a phase-type distribution\"\"\"\n",
    "\n",
    "import random\n",
    "\n",
    "def tablelookup(P):\n",
    "    \"\"\"Sample from i=0..n-1 with probabilities P[i]\"\"\"\n",
    "    u = random.random()\n",
    "    sumP = 0.0\n",
    "    for i in range(len(P)):\n",
    "        sumP += P[i]\n",
    "        if u < sumP:\n",
    "            return i\n",
    "\n",
    "def phase(beta,mu,T):\n",
    "    \"\"\"Random variate from a phase-type distribution\n",
    "    beta= entry probabilities\n",
    "    mu = rates\n",
    "    T = transition matrix\n",
    "    \"\"\"\n",
    "    i = tablelookup(beta)  # entry node\n",
    "    result = 0.0\n",
    "    n = len(mu)\n",
    "    while i != n:\n",
    "        result += random.expovariate(mu[i])\n",
    "        i = tablelookup(T[i])\n",
    "    return result"
   ]
  },
  {
   "cell_type": "code",
   "execution_count": null,
   "metadata": {},
   "outputs": [],
   "source": []
  }
 ],
 "metadata": {
  "kernelspec": {
   "display_name": "Python 3",
   "language": "python",
   "name": "python3"
  },
  "language_info": {
   "codemirror_mode": {
    "name": "ipython",
    "version": 3
   },
   "file_extension": ".py",
   "mimetype": "text/x-python",
   "name": "python",
   "nbconvert_exporter": "python",
   "pygments_lexer": "ipython3",
   "version": "3.6.3"
  }
 },
 "nbformat": 4,
 "nbformat_minor": 2
}

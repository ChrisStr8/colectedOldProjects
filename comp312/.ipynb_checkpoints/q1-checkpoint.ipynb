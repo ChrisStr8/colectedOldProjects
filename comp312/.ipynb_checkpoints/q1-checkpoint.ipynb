{
 "cells": [
  {
   "cell_type": "code",
   "execution_count": null,
   "metadata": {},
   "outputs": [],
   "source": [
    "\"\"\"(q1.py) M/M/c queueing system\"\"\"\n",
    "\n",
    "from SimPy.Simulation import *\n",
    "import random\n",
    "\n",
    "## Model ----------\n",
    "class Source(Process):\n",
    "    \"\"\"generate random arrivals\"\"\"\n",
    "    def run(self, N, lamb, mu):\n",
    "        for i in range(N):\n",
    "            a = Arrival(str(i))\n",
    "            activate(a, a.run(mu))\n",
    "            t = random.expovariate(lamb)\n",
    "            yield hold, self, t\n",
    "\n",
    "class Arrival(Process):\n",
    "    \"\"\"an arrival\"\"\"\n",
    "    def run(self, mu):\n",
    "        print now(), \"Event: Customer arrives, joins queue\"\n",
    "        yield request, self, G.server\n",
    "        t = random.expovariate(mu)\n",
    "        print now(), \"Event: Customer begins service\"\n",
    "        yield hold, self, t\n",
    "        yield release, self, G.server\n",
    "        print now(), \"Event: Customer leaves\"\n",
    "\n",
    "class G:\n",
    "    server = 'dummy'\n",
    "\n",
    "def model(c, N, lamb, mu, maxtime, rvseed):\n",
    "    # setup\n",
    "    initialize()\n",
    "    random.seed(rvseed)\n",
    "    G.server = Resource(c)\n",
    "    \n",
    "    # simulation run\n",
    "    s = Source('Source')\n",
    "    activate(s, s.run(N, lamb, mu))\n",
    "    simulate(until=maxtime)\n",
    "\n",
    "## Experiment ----------\n",
    "model(c=1, N=10, lamb=5, mu=2,\n",
    "      maxtime=1000000,rvseed=123)"
   ]
  }
 ],
 "metadata": {
  "kernelspec": {
   "display_name": "Python 3",
   "language": "python",
   "name": "python3"
  },
  "language_info": {
   "codemirror_mode": {
    "name": "ipython",
    "version": 3
   },
   "file_extension": ".py",
   "mimetype": "text/x-python",
   "name": "python",
   "nbconvert_exporter": "python",
   "pygments_lexer": "ipython3",
   "version": "3.6.3"
  }
 },
 "nbformat": 4,
 "nbformat_minor": 2
}

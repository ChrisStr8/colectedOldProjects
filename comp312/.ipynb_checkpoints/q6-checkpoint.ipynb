{
 "cells": [
  {
   "cell_type": "code",
   "execution_count": 1,
   "metadata": {},
   "outputs": [
    {
     "ename": "ModuleNotFoundError",
     "evalue": "No module named 'simpy'",
     "output_type": "error",
     "traceback": [
      "\u001b[1;31m---------------------------------------------------------------------------\u001b[0m",
      "\u001b[1;31mModuleNotFoundError\u001b[0m                       Traceback (most recent call last)",
      "\u001b[1;32m<ipython-input-1-17495d679c84>\u001b[0m in \u001b[0;36m<module>\u001b[1;34m\u001b[0m\n\u001b[0;32m      1\u001b[0m \u001b[1;34m\"\"\"(q6.py) M/G/c queueing system with service time monitors\"\"\"\u001b[0m\u001b[1;33m\u001b[0m\u001b[0m\n\u001b[0;32m      2\u001b[0m \u001b[1;33m\u001b[0m\u001b[0m\n\u001b[1;32m----> 3\u001b[1;33m \u001b[1;32mfrom\u001b[0m \u001b[0mSimPy\u001b[0m\u001b[1;33m.\u001b[0m\u001b[0mSimulation\u001b[0m \u001b[1;32mimport\u001b[0m \u001b[1;33m*\u001b[0m\u001b[1;33m\u001b[0m\u001b[0m\n\u001b[0m\u001b[0;32m      4\u001b[0m \u001b[1;32mimport\u001b[0m \u001b[0mrandom\u001b[0m\u001b[1;33m\u001b[0m\u001b[0m\n\u001b[0;32m      5\u001b[0m \u001b[1;33m\u001b[0m\u001b[0m\n",
      "\u001b[1;32m~\\Anaconda3\\lib\\site-packages\\SimPy\\__init__.py\u001b[0m in \u001b[0;36m<module>\u001b[1;34m\u001b[0m\n\u001b[0;32m     13\u001b[0m \u001b[1;32mfrom\u001b[0m \u001b[0mtyping\u001b[0m \u001b[1;32mimport\u001b[0m \u001b[0mList\u001b[0m\u001b[1;33m,\u001b[0m \u001b[0mTuple\u001b[0m\u001b[1;33m,\u001b[0m \u001b[0mType\u001b[0m\u001b[1;33m\u001b[0m\u001b[0m\n\u001b[0;32m     14\u001b[0m \u001b[1;33m\u001b[0m\u001b[0m\n\u001b[1;32m---> 15\u001b[1;33m \u001b[1;32mfrom\u001b[0m \u001b[0msimpy\u001b[0m\u001b[1;33m.\u001b[0m\u001b[0mcore\u001b[0m \u001b[1;32mimport\u001b[0m \u001b[0mEnvironment\u001b[0m\u001b[1;33m\u001b[0m\u001b[0m\n\u001b[0m\u001b[0;32m     16\u001b[0m \u001b[1;32mfrom\u001b[0m \u001b[0msimpy\u001b[0m\u001b[1;33m.\u001b[0m\u001b[0mrt\u001b[0m \u001b[1;32mimport\u001b[0m \u001b[0mRealtimeEnvironment\u001b[0m\u001b[1;33m\u001b[0m\u001b[0m\n\u001b[0;32m     17\u001b[0m \u001b[1;32mfrom\u001b[0m \u001b[0msimpy\u001b[0m\u001b[1;33m.\u001b[0m\u001b[0mexceptions\u001b[0m \u001b[1;32mimport\u001b[0m \u001b[0mSimPyException\u001b[0m\u001b[1;33m,\u001b[0m \u001b[0mInterrupt\u001b[0m\u001b[1;33m\u001b[0m\u001b[0m\n",
      "\u001b[1;31mModuleNotFoundError\u001b[0m: No module named 'simpy'"
     ]
    }
   ],
   "source": [
    "\"\"\"(q6.py) M/G/c queueing system with service time monitors\"\"\"\n",
    "\n",
    "from SimPy.Simulation import *\n",
    "import random\n",
    "\n",
    "## Erlang distribution ----------\n",
    "def erlangvariate(k,mu):\n",
    "    \"\"\"random variate from an Erlang(k,mu) distribution\"\"\"\n",
    "    result = 0.0\n",
    "    for i in range(k):\n",
    "        result += random.expovariate(mu)\n",
    "    return result\n",
    "\n",
    "## Model ----------\n",
    "class Source(Process):\n",
    "    \"\"\"generate random arrivals\"\"\"\n",
    "    def run(self, N, lamb, k, mu):\n",
    "        for i in range(N):\n",
    "            a = Arrival(str(i))\n",
    "            activate(a, a.run(k, mu))\n",
    "            t = random.expovariate(lamb)\n",
    "            yield hold, self, t\n",
    "\n",
    "class Arrival(Process):\n",
    "    \"\"\"an arrival\"\"\"\n",
    "    def run(self, k, mu):\n",
    "        arrivetime = now()\n",
    "        yield request, self, G.server\n",
    "        t = erlangvariate(k,mu)\n",
    "        G.servicemon.observe(t)\n",
    "        G.servicesquaredmon.observe(t**2)\n",
    "        yield hold, self, t\n",
    "        yield release, self, G.server\n",
    "        delay = now()-arrivetime\n",
    "        G.delaymon.observe(delay)\n",
    "        #print(now(), \"Observed delay\", delay)\n",
    "\n",
    "\n",
    "class G:\n",
    "    server = 'dummy'\n",
    "    delaymon = 'Monitor'\n",
    "    servicemon = 'Monitor'\n",
    "    servicesquaredmon = 'Monitor'\n",
    "    \n",
    "def model(c, N, lamb, k, mu, maxtime, rvseed):\n",
    "    # setup\n",
    "    initialize()\n",
    "    random.seed(rvseed)\n",
    "    G.server = Resource(c)\n",
    "    G.delaymon = Monitor()\n",
    "    G.servicemon = Monitor()\n",
    "    G.servicesquaredmon = Monitor()\n",
    "   \n",
    "    # simulate\n",
    "    s = Source('Source')\n",
    "    activate(s, s.run(N, lamb, k, mu))\n",
    "    simulate(until=maxtime)\n",
    "   \n",
    "    # gather performance measures\n",
    "    W = G.delaymon.mean()\n",
    "    S = G.servicemon.mean()\n",
    "    S2 = G.servicesquaredmon.mean()\n",
    "    \n",
    "    print(\"Service times:\\n\")\n",
    "    print(G.servicemon.yseries())\n",
    "    print(\"Service times squared:\\n\")\n",
    "    print(G.servicesquaredmon.yseries())\n",
    "    return(W,S,S2)\n",
    "\n",
    "## Experiment ----------------\n",
    "result = model(c=1, N=30, lamb=3, k=2, mu=10,\n",
    "               maxtime=2000000, rvseed=123)\n",
    "print(\"\")\n",
    "print(\"Estimate of W:\",result[0])\n",
    "print(\"Estimate of E[tau]:\",result[1])\n",
    "print(\"Estimate of E[tau^2]:\",result[2])\n"
   ]
  },
  {
   "cell_type": "code",
   "execution_count": null,
   "metadata": {
    "collapsed": true
   },
   "outputs": [],
   "source": []
  }
 ],
 "metadata": {
  "kernelspec": {
   "display_name": "Python 3",
   "language": "python",
   "name": "python3"
  },
  "language_info": {
   "codemirror_mode": {
    "name": "ipython",
    "version": 3
   },
   "file_extension": ".py",
   "mimetype": "text/x-python",
   "name": "python",
   "nbconvert_exporter": "python",
   "pygments_lexer": "ipython3",
   "version": "3.6.3"
  }
 },
 "nbformat": 4,
 "nbformat_minor": 2
}

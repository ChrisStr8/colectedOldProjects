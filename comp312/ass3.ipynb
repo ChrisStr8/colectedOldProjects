{
 "cells": [
  {
   "cell_type": "code",
   "execution_count": 2,
   "metadata": {},
   "outputs": [
    {
     "name": "stdout",
     "output_type": "stream",
     "text": [
      "area:  157.07963267948966\n",
      "eccentricity:  0.8660254037844386\n",
      "1\n",
      "2\n",
      "3\n",
      "4\n",
      "5\n",
      "6\n",
      "7\n",
      "8\n",
      "9\n"
     ]
    }
   ],
   "source": [
    "import math\n",
    "import random\n",
    "import numpy as np\n",
    "from scipy import stats\n",
    "\n",
    "\n",
    "# 1\n",
    "class Ellipse:\n",
    "    def __init__(self, a, b):\n",
    "        self.a = a\n",
    "        self.b = b\n",
    "\n",
    "    def area(self):\n",
    "        return math.pi * self.a * self.b\n",
    "\n",
    "    def eccentricity(self):\n",
    "        return math.sqrt(1 - (self.b / self.a) ** 2)\n",
    "\n",
    "\n",
    "e = Ellipse(10, 5)\n",
    "print(\"area: \", e.area())\n",
    "print(\"eccentricity: \", e.eccentricity())\n",
    "\n",
    "# 2\n",
    "# a)\n",
    "def chisquarevariate(k):\n",
    "    v = 0\n",
    "    for i in range(k):\n",
    "        v += np.random.normal() ** 2\n",
    "    return v"
   ]
  },
  {
   "cell_type": "code",
   "execution_count": 9,
   "metadata": {},
   "outputs": [
    {
     "name": "stdout",
     "output_type": "stream",
     "text": [
      "(1, 1.0080564517772288, 2.061082712586418)\n",
      "(2, 1.9645723241653765, 3.854421450229885)\n",
      "(3, 3.0031832283860544, 6.01440569133434)\n",
      "(4, 4.004467260221402, 8.153986001064307)\n",
      "(5, 4.946568634896884, 9.611907069023928)\n",
      "(6, 6.000681684758714, 11.915968308392296)\n",
      "(7, 6.937896351712596, 14.08192004755275)\n",
      "(8, 7.988602688365316, 16.32407820313264)\n",
      "(9, 8.9943476088288, 17.39362330356044)\n"
     ]
    }
   ],
   "source": [
    "# b)\n",
    "ks = {1,2,3,4,5,6,7,8,9}\n",
    "n = 10000\n",
    "variates = []\n",
    "for k in ks:\n",
    "    v = []\n",
    "    total = 0.0\n",
    "    for i in range(n):\n",
    "        variate = chisquarevariate(k)\n",
    "        total += variate\n",
    "        v.append(variate)\n",
    "    mean = total / n\n",
    "    tVar = 0.0\n",
    "    for x in v:\n",
    "        tVar += (x - mean) ** 2\n",
    "    meanVar = tVar / n\n",
    "    variates.append((k, mean, meanVar))\n",
    "print(\"(k, mean, varience)\")\n",
    "print(variates[0])\n",
    "print(variates[1])\n",
    "print(variates[2])\n",
    "print(variates[3])\n",
    "print(variates[4])\n",
    "print(variates[5])\n",
    "print(variates[6])\n",
    "print(variates[7])\n",
    "print(variates[8])"
   ]
  },
  {
   "cell_type": "code",
   "execution_count": 10,
   "metadata": {},
   "outputs": [
    {
     "name": "stdout",
     "output_type": "stream",
     "text": [
      "(k, mean, varience, CI)\n",
      "(1, 0.9354248819989782, 2.5788538925979703, 0.2782046952364332)\n",
      "(2, 1.5615038150381313, 2.3915946472464769, 0.2679136695849709)\n",
      "(3, 2.7169381861829063, 4.2634791697143779, 0.35771171155142933)\n",
      "(4, 4.122468750082207, 6.851697243670916, 0.453471678857317)\n",
      "(5, 4.465049237862349, 9.1666571015348026, 0.5245133899718992)\n",
      "(6, 5.630011239309225, 9.8840186705519564, 0.5446504478561833)\n",
      "(7, 7.44851067324365, 11.349001156862704, 0.5836196511601904)\n",
      "(8, 8.7780996908719, 21.859645652684584, 0.809976922604093)\n",
      "(9, 8.995590356424017, 19.3479282262618, 0.7620234221404768)\n"
     ]
    }
   ],
   "source": [
    "# c)\n",
    "ks = {1,2,3,4,5,6,7,8,9}\n",
    "n = 50\n",
    "variates = []\n",
    "for k in ks:\n",
    "    v = []\n",
    "    total = 0.0\n",
    "    for i in range(n):\n",
    "        variate = chisquarevariate(k)\n",
    "        total += variate\n",
    "        v.append(variate)\n",
    "    mean = total / n\n",
    "    var = np.var(v)\n",
    "    stanDev = math.sqrt(var)\n",
    "    df = n - 1\n",
    "    t = ((1 - 0.95) / 2) * df\n",
    "    ci = (t *(stanDev / math.sqrt(n)))\n",
    "    \n",
    "    variates.append((k, mean, var, ci))\n",
    "print(\"(k, mean, varience, CI)\")\n",
    "print(variates[0])\n",
    "print(variates[1])\n",
    "print(variates[2])\n",
    "print(variates[3])\n",
    "print(variates[4])\n",
    "print(variates[5])\n",
    "print(variates[6])\n",
    "print(variates[7])\n",
    "print(variates[8])"
   ]
  },
  {
   "cell_type": "code",
   "execution_count": null,
   "metadata": {},
   "outputs": [],
   "source": []
  },
  {
   "cell_type": "code",
   "execution_count": null,
   "metadata": {},
   "outputs": [],
   "source": []
  }
 ],
 "metadata": {
  "kernelspec": {
   "display_name": "Python 3",
   "language": "python",
   "name": "python3"
  },
  "language_info": {
   "codemirror_mode": {
    "name": "ipython",
    "version": 3
   },
   "file_extension": ".py",
   "mimetype": "text/x-python",
   "name": "python",
   "nbconvert_exporter": "python",
   "pygments_lexer": "ipython3",
   "version": "3.8.5"
  }
 },
 "nbformat": 4,
 "nbformat_minor": 2
}

{
 "cells": [
  {
   "cell_type": "code",
   "execution_count": 1,
   "metadata": {},
   "outputs": [
    {
     "ename": "ModuleNotFoundError",
     "evalue": "No module named 'simpy'",
     "output_type": "error",
     "traceback": [
      "\u001b[1;31m---------------------------------------------------------------------------\u001b[0m",
      "\u001b[1;31mModuleNotFoundError\u001b[0m                       Traceback (most recent call last)",
      "\u001b[1;32m<ipython-input-1-41b72faec84a>\u001b[0m in \u001b[0;36m<module>\u001b[1;34m\u001b[0m\n\u001b[1;32m----> 1\u001b[1;33m \u001b[1;32mfrom\u001b[0m \u001b[0mSimPy\u001b[0m\u001b[1;33m.\u001b[0m\u001b[0mSimulation\u001b[0m \u001b[1;32mimport\u001b[0m \u001b[1;33m*\u001b[0m\u001b[1;33m\u001b[0m\u001b[0m\n\u001b[0m\u001b[0;32m      2\u001b[0m \u001b[1;33m\u001b[0m\u001b[0m\n\u001b[0;32m      3\u001b[0m \u001b[1;32mclass\u001b[0m \u001b[0mVisitor\u001b[0m\u001b[1;33m(\u001b[0m\u001b[0mProcess\u001b[0m\u001b[1;33m)\u001b[0m\u001b[1;33m:\u001b[0m\u001b[1;33m\u001b[0m\u001b[0m\n\u001b[0;32m      4\u001b[0m     \u001b[1;32mdef\u001b[0m \u001b[0mvisit\u001b[0m\u001b[1;33m(\u001b[0m\u001b[0mself\u001b[0m\u001b[1;33m)\u001b[0m\u001b[1;33m:\u001b[0m\u001b[1;33m\u001b[0m\u001b[0m\n\u001b[0;32m      5\u001b[0m         \u001b[0mself\u001b[0m\u001b[1;33m.\u001b[0m\u001b[0mtrace\u001b[0m\u001b[1;33m(\u001b[0m\u001b[1;34m'This is new'\u001b[0m\u001b[1;33m)\u001b[0m\u001b[1;33m\u001b[0m\u001b[0m\n",
      "\u001b[1;32m~\\Anaconda3\\lib\\site-packages\\SimPy\\__init__.py\u001b[0m in \u001b[0;36m<module>\u001b[1;34m\u001b[0m\n\u001b[0;32m     13\u001b[0m \u001b[1;32mfrom\u001b[0m \u001b[0mtyping\u001b[0m \u001b[1;32mimport\u001b[0m \u001b[0mList\u001b[0m\u001b[1;33m,\u001b[0m \u001b[0mTuple\u001b[0m\u001b[1;33m,\u001b[0m \u001b[0mType\u001b[0m\u001b[1;33m\u001b[0m\u001b[0m\n\u001b[0;32m     14\u001b[0m \u001b[1;33m\u001b[0m\u001b[0m\n\u001b[1;32m---> 15\u001b[1;33m \u001b[1;32mfrom\u001b[0m \u001b[0msimpy\u001b[0m\u001b[1;33m.\u001b[0m\u001b[0mcore\u001b[0m \u001b[1;32mimport\u001b[0m \u001b[0mEnvironment\u001b[0m\u001b[1;33m\u001b[0m\u001b[0m\n\u001b[0m\u001b[0;32m     16\u001b[0m \u001b[1;32mfrom\u001b[0m \u001b[0msimpy\u001b[0m\u001b[1;33m.\u001b[0m\u001b[0mrt\u001b[0m \u001b[1;32mimport\u001b[0m \u001b[0mRealtimeEnvironment\u001b[0m\u001b[1;33m\u001b[0m\u001b[0m\n\u001b[0;32m     17\u001b[0m \u001b[1;32mfrom\u001b[0m \u001b[0msimpy\u001b[0m\u001b[1;33m.\u001b[0m\u001b[0mexceptions\u001b[0m \u001b[1;32mimport\u001b[0m \u001b[0mSimPyException\u001b[0m\u001b[1;33m,\u001b[0m \u001b[0mInterrupt\u001b[0m\u001b[1;33m\u001b[0m\u001b[0m\n",
      "\u001b[1;31mModuleNotFoundError\u001b[0m: No module named 'simpy'"
     ]
    }
   ],
   "source": [
    "from SimPy.Simulation import *\n",
    "\n",
    "class Visitor(Process):\n",
    "    def visit(self):\n",
    "        self.trace('This is new')\n",
    "        yield hold, self, visitTime\n",
    "        self.trace('Nice Place!')\n",
    "        \n",
    "    def trace(self, msg):\n",
    "        FMT = '%8.4f %s %s'\n",
    "        if TRACING:\n",
    "            print(FMT%(now(), self.name, msg))\n",
    "\n",
    "# Experiment data\n",
    "TRACING = True\n",
    "visitTime = 10\n",
    "\n",
    "# Experiment\n",
    "print('Kathy (a)')\n",
    "initialize()\n",
    "kathy = Visitor('Kathy')\n",
    "activate(kathy, kathy.visit(), now())\n",
    "simulate(until=2000)"
   ]
  },
  {
   "cell_type": "code",
   "execution_count": 11,
   "metadata": {},
   "outputs": [
    {
     "name": "stdout",
     "output_type": "stream",
     "text": [
      "Kathy (b)\n",
      "  0.0000 Kathy This is new\n",
      "  0.0000 Kathy Look!, number 0\n",
      "  4.5000 Kathy mm\n",
      "  4.5000 Kathy Look!, number 1\n",
      " 10.0000 Kathy mm\n",
      " 10.0000 Kathy Nice Place!\n"
     ]
    },
    {
     "data": {
      "text/plain": [
       "'SimPy: No more events at time 10.0'"
      ]
     },
     "execution_count": 11,
     "metadata": {},
     "output_type": "execute_result"
    }
   ],
   "source": [
    "from SimPy.Simulation import *\n",
    "\n",
    "class Visitor(Process):\n",
    "    def visit(self):\n",
    "        self.trace('This is new')\n",
    "        \n",
    "        self.trace('Look!, number 0')\n",
    "        yield hold, self, displayTime[0]\n",
    "        self.trace('mm')\n",
    "        \n",
    "        self.trace('Look!, number 1')\n",
    "        yield hold, self, displayTime[1]\n",
    "        self.trace('mm')\n",
    "        \n",
    "        self.trace('Nice Place!')\n",
    "        \n",
    "    def trace(self, msg):\n",
    "        FMT = '%8.4f %s %s'\n",
    "        if TRACING:\n",
    "            print(FMT%(now(), self.name, msg))\n",
    "\n",
    "\n",
    "# Experiment data\n",
    "TRACING = True\n",
    "visitTime = 10\n",
    "displayTime = [4.5, 5.5]\n",
    "\n",
    "# Experiment\n",
    "print('Kathy (b)')\n",
    "initialize()\n",
    "kathy = Visitor('Kathy')\n",
    "activate(kathy, kathy.visit(), now())\n",
    "simulate(until=2000)"
   ]
  },
  {
   "cell_type": "code",
   "execution_count": 24,
   "metadata": {},
   "outputs": [
    {
     "name": "stdout",
     "output_type": "stream",
     "text": [
      "Kathy (c)\n",
      "  0.0000 Kathy This is new\n",
      "  0.0000 Kathy Look!, number 0\n",
      "  4.5000 Kathy mm\n",
      "  4.5000 Kathy Look!, number 1\n",
      " 10.0000 Kathy mm\n",
      " 10.0000 Kathy Nice Place!\n"
     ]
    },
    {
     "data": {
      "text/plain": [
       "'SimPy: No more events at time 10.0'"
      ]
     },
     "execution_count": 24,
     "metadata": {},
     "output_type": "execute_result"
    }
   ],
   "source": [
    "from SimPy.Simulation import *\n",
    "import random\n",
    "\n",
    "class Visitor(Process):\n",
    "    def visit(self):\n",
    "        self.trace('This is new')\n",
    "        \n",
    "        self.trace('Look!, number 0')\n",
    "        yield hold, self, displayTime[0]\n",
    "        self.trace('mm')\n",
    "        \n",
    "        r = random.random()\n",
    "        \n",
    "        if r <= p:\n",
    "            self.trace('Look!, number 1')\n",
    "            yield hold, self, displayTime[1]\n",
    "            self.trace('mm')\n",
    "        else:\n",
    "            self.trace('Look!, number 2')\n",
    "            yield hold, self, displayTime[2]\n",
    "            self.trace('mm')\n",
    "        \n",
    "        self.trace('Nice Place!')\n",
    "        \n",
    "    def trace(self, msg):\n",
    "        FMT = '%8.4f %s %s'\n",
    "        if TRACING:\n",
    "            print(FMT%(now(), self.name, msg))\n",
    "\n",
    "\n",
    "# Experiment data\n",
    "TRACING = True\n",
    "visitTime = 10\n",
    "displayTime = [4.5, 5.5, 7.5]\n",
    "p = 0.4\n",
    "\n",
    "# Experiment\n",
    "print('Kathy (c)')\n",
    "random.seed(99999)\n",
    "initialize()\n",
    "kathy = Visitor('Kathy')\n",
    "activate(kathy, kathy.visit(), now())\n",
    "simulate(until=2000)"
   ]
  },
  {
   "cell_type": "code",
   "execution_count": 30,
   "metadata": {},
   "outputs": [
    {
     "name": "stdout",
     "output_type": "stream",
     "text": [
      "Kathy (d)\n",
      "  0.0000 Kathy Look!, number 0\n",
      "  4.5000 Kathy mm\n",
      "  9.0000 Kathy mm\n",
      " 13.5000 Kathy mm\n"
     ]
    },
    {
     "data": {
      "text/plain": [
       "'SimPy: No more events at time 13.5'"
      ]
     },
     "execution_count": 30,
     "metadata": {},
     "output_type": "execute_result"
    }
   ],
   "source": [
    "from SimPy.Simulation import *\n",
    "import random\n",
    "\n",
    "class Visitor(Process):\n",
    "    def visit(self):\n",
    "        self.visited = True\n",
    "\n",
    "        self.trace('Look!, number 0')\n",
    "        yield hold, self, displayTime[0]\n",
    "        self.trace('mm')\n",
    "            \n",
    "        r = random.random()\n",
    "        \n",
    "        while(r <= p):\n",
    "            yield hold, self, displayTime[0]\n",
    "            self.trace('mm')\n",
    "            r = random.random()\n",
    "        \n",
    "    def trace(self, msg):\n",
    "        FMT = '%8.4f %s %s'\n",
    "        if TRACING:\n",
    "            print(FMT%(now(), self.name, msg))\n",
    "\n",
    "\n",
    "# Experiment data\n",
    "TRACING = True\n",
    "visitTime = 10\n",
    "displayTime = [4.5, 5.5, 7.5]\n",
    "p = 0.4\n",
    "\n",
    "# Experiment\n",
    "print('Kathy (d)')\n",
    "random.seed(99999)\n",
    "initialize()\n",
    "kathy = Visitor('Kathy')\n",
    "activate(kathy, kathy.visit(), now())\n",
    "simulate(until=2000)"
   ]
  },
  {
   "cell_type": "code",
   "execution_count": null,
   "metadata": {
    "collapsed": true
   },
   "outputs": [],
   "source": []
  }
 ],
 "metadata": {
  "kernelspec": {
   "display_name": "Python 3",
   "language": "python",
   "name": "python3"
  },
  "language_info": {
   "codemirror_mode": {
    "name": "ipython",
    "version": 3
   },
   "file_extension": ".py",
   "mimetype": "text/x-python",
   "name": "python",
   "nbconvert_exporter": "python",
   "pygments_lexer": "ipython3",
   "version": "3.6.3"
  }
 },
 "nbformat": 4,
 "nbformat_minor": 2
}

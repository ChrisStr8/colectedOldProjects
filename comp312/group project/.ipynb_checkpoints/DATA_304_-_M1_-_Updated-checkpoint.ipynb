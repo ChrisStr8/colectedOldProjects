{
 "cells": [
  {
   "cell_type": "code",
   "execution_count": 1,
   "metadata": {},
   "outputs": [],
   "source": [
    "from SimPy.Simulation import *\n",
    "import math\n",
    "import random\n",
    "import numpy as np\n",
    "import scipy.stats as ss\n",
    "import matplotlib.pyplot as plt"
   ]
  },
  {
   "cell_type": "code",
   "execution_count": 2,
   "metadata": {},
   "outputs": [],
   "source": [
    "def skipHeader(dataFile):\n",
    "    dataFile.readline()\n",
    "    dataFile.readline()\n",
    "    dataFile.readline()\n",
    "    dataFile.readline()\n",
    "    \n",
    "def readData(periods):\n",
    "    for i in range(1,11):\n",
    "        f = open('Project results' + str(i) + '.txt', 'r')\n",
    "        skipHeader(f) #Skips the four header lines at the time of the file.\n",
    "\n",
    "        arrivals = [] # Array of arrivals for a period of time\n",
    "        departures = [] # Array of departures for a period of time\n",
    "        startTime = float(f.readline()[0:-1].split('  ')[0])\n",
    "        endTime = None\n",
    "\n",
    "        for line in f:\n",
    "            observation = line[0:-1].split('  ')\n",
    "            if observation[1] == 'a':\n",
    "                arrivals.append(float(observation[0]))\n",
    "            elif observation[1] == 'd':\n",
    "                departures.append(float(observation[0]))\n",
    "            else:\n",
    "                endTime = float(observation[0])\n",
    "\n",
    "        periods.append([startTime, arrivals, departures, endTime])"
   ]
  },
  {
   "cell_type": "code",
   "execution_count": 3,
   "metadata": {},
   "outputs": [
    {
     "name": "stdout",
     "output_type": "stream",
     "text": [
      "mean inter-arrival time:  58.28008368978102\n",
      "mean service time:  42.50126948591549\n"
     ]
    }
   ],
   "source": [
    "periods = [] # Array containing periods of format [start time, arrivals, departures, end time]\n",
    "readData(periods)\n",
    "\n",
    "interArrivalTimes = []\n",
    "for p in periods:\n",
    "    for a in range(1, len(p[1])):\n",
    "        interArrivalTimes.append(p[1][a] - p[1][a - 1])        \n",
    "interArrivalBins = int(round(1 + np.log2(len(interArrivalTimes))))\n",
    "\n",
    "#serviceTimes = []\n",
    "#for p in periods:\n",
    "#    for d in range(1, len(p[2])):\n",
    "#        serviceTimes.append(p[2][d] - p[2][d - 1])\n",
    "#serviceBins = int(round(1 + np.log2(len(serviceTimes))))\n",
    "\n",
    "serviceTimes = []\n",
    "for p in periods:\n",
    "    serviceTimes.append(p[2][0]-p[1][0])\n",
    "    for i in range(1,len(p[2])):\n",
    "        if(p[2][i - 1] > p[1][i]):\n",
    "            serviceTimes.append(p[2][i] - p[2][i - 1])\n",
    "        else:\n",
    "            serviceTimes.append(p[2][i] - p[1][i])\n",
    "serviceBins = int(round(1 + np.log2(len(serviceTimes))))\n",
    "\n",
    "Imean = np.mean(interArrivalTimes)\n",
    "Smean = np.mean(serviceTimes)\n",
    "print(\"mean inter-arrival time: \",Imean)\n",
    "print(\"mean service time: \",Smean)"
   ]
  },
  {
   "cell_type": "code",
   "execution_count": 4,
   "metadata": {},
   "outputs": [],
   "source": [
    "## Model ##\n",
    "class Source(Process):\n",
    "    \"\"\"generate random arrivals\"\"\"\n",
    "    def run(self, N):\n",
    "        for i in range(N):\n",
    "            a = Arrival(str(i))\n",
    "            activate(a, a.run())\n",
    "            t = random.expovariate(1/Imean)\n",
    "            \n",
    "            G.interarrivalmon.observe(t)\n",
    "            G.interarrivalsquaredmon.observe(t ** 2)\n",
    "            yield hold, self, t"
   ]
  },
  {
   "cell_type": "code",
   "execution_count": 5,
   "metadata": {},
   "outputs": [],
   "source": [
    "class Arrival(Process):\n",
    "    \"\"\"an arrival\"\"\"\n",
    "\n",
    "    def run(self):\n",
    "        G.inSystem += 1\n",
    "        G.inQueue += 1\n",
    "        arrivetime = now()\n",
    "        G.LMon.observe(G.inSystem)\n",
    "        G.LqMon.observe(G.inQueue)\n",
    "        \n",
    "        yield request, self, G.server\n",
    "        \n",
    "        G.inQueue -= 1\n",
    "        G.LqMon.observe(G.inQueue)\n",
    "        G.WqMon.observe(now() - arrivetime)\n",
    "        \n",
    "        t = random.expovariate(1/Smean)\n",
    "        \n",
    "        G.WsMon.observe(t)\n",
    "        G.Ws2Mon.observe(t**2)\n",
    "        \n",
    "        yield hold, self, t\n",
    "        yield release, self, G.server\n",
    "        delay = now() - arrivetime\n",
    "        G.WMon.observe(delay)\n",
    "        \n",
    "        G.inSystem -= 1\n",
    "        G.LMon.observe(G.inSystem)"
   ]
  },
  {
   "cell_type": "code",
   "execution_count": 6,
   "metadata": {},
   "outputs": [],
   "source": [
    "class G:\n",
    "    inSystem = 0\n",
    "    inQueue = 0\n",
    "    \n",
    "    server = 'dummy'\n",
    "    \n",
    "    WMon = 'Monitor'\n",
    "    WsMon = 'Monitor'\n",
    "    Ws2Mon = 'Monitor'\n",
    "    WqMon = 'Monitor'\n",
    "    LMon = 'Monitor'\n",
    "    LqMon = 'Monitor'\n",
    "    interarrivalmon = 'Monitor'\n",
    "    interarrivalsquaredmon = 'Monitor'\n",
    "    \n",
    "    serviceTimes = []\n",
    "    interArrivalTimes = []"
   ]
  },
  {
   "cell_type": "code",
   "execution_count": 7,
   "metadata": {},
   "outputs": [],
   "source": [
    "def model(c, N, maxtime, rvseed):\n",
    "    # setup\n",
    "    initialize()\n",
    "    random.seed(rvseed)\n",
    "    G.inSystem = 0\n",
    "    G.inQueue = 0\n",
    "    \n",
    "    G.server = Resource(1, monitored=True)\n",
    "    G.WMon = Monitor()\n",
    "    G.WsMon = Monitor()\n",
    "    G.Ws2Mon = Monitor()\n",
    "    G.WqMon = Monitor()\n",
    "    G.LMon = Monitor()\n",
    "    G.LqMon = Monitor()\n",
    "    \n",
    "    G.interarrivalmon = Monitor()\n",
    "    G.interarrivalsquaredmon = Monitor()\n",
    "\n",
    "    # simulate\n",
    "    s = Source('Source')\n",
    "    activate(s, s.run(N))\n",
    "    simulate(until=maxtime)\n",
    "\n",
    "    # gather performance measures\n",
    "    W = G.WMon.mean()\n",
    "    Ws = G.WsMon.mean()\n",
    "    Ws2 = G.Ws2Mon.mean()\n",
    "    Wq = G.WqMon.mean()\n",
    "    L = G.LMon.timeAverage()\n",
    "    Lq = G.LqMon.timeAverage()\n",
    "    \n",
    "    Svar = G.WsMon.var()\n",
    "    util = G.server.actMon.timeAverage()\n",
    "    IA = G.interarrivalmon.mean()\n",
    "    IAvar = G.interarrivalmon.var()\n",
    "\n",
    "    G.serviceTimes += G.WsMon.yseries()\n",
    "    G.interArrivalTimes += G.interarrivalmon.yseries()\n",
    "\n",
    "    return(W,Ws,Ws2,L,util,IA,Wq,Lq,IAvar,Svar)"
   ]
  },
  {
   "cell_type": "code",
   "execution_count": 8,
   "metadata": {},
   "outputs": [
    {
     "name": "stdout",
     "output_type": "stream",
     "text": [
      "Doing 10th iteration\n",
      "Doing 20th iteration\n",
      "Doing 30th iteration\n",
      "Doing 40th iteration\n",
      "\n",
      " PERFORMANCE ESTIMATES: \n",
      "---------\n",
      "Interarrival mean: 58.63156961553718\n",
      "W: 116.96505241169457\n",
      "Wq: 74.30212204550605\n",
      "Ws: 42.66293036618851\n",
      "L: 1.9131311849735306\n",
      "Lq: 1.2158972168467197\n",
      "Utilisation : 0.6972339681268107\n",
      "Interarrival variance : 3388.5995949226053\n",
      "Ws variance : 1839.6098065240515\n"
     ]
    }
   ],
   "source": [
    "## Experiment ##\n",
    "\n",
    "allW = []\n",
    "allWq = []\n",
    "allS = []\n",
    "allL = []\n",
    "allLq = []\n",
    "allUtil = []\n",
    "allIA = []\n",
    "allIAvar = []\n",
    "allSvar = []\n",
    "\n",
    "for i in range(50):\n",
    "    if i == 9:\n",
    "        print(\"Doing\", str(i + 1) + \"th\", \"iteration\")\n",
    "    elif i == 19:\n",
    "        print(\"Doing\", str(i + 1) + \"th\", \"iteration\")\n",
    "    elif i == 29:\n",
    "        print(\"Doing\", str(i + 1) + \"th\", \"iteration\")\n",
    "    elif i ==39:\n",
    "        print(\"Doing\", str(i + 1) + \"th\", \"iteration\")\n",
    "        \n",
    "    result = model(c=1, N=30, maxtime=2000000000, rvseed=123*i)\n",
    "    \n",
    "    allW.append(result[0])\n",
    "    allS.append(result[1])\n",
    "    allL.append(result[3])\n",
    "    allUtil.append(result[4])\n",
    "    allIA.append(result[5])\n",
    "    allWq.append(result[6])\n",
    "    allLq.append(result[7])\n",
    "    allIAvar.append(result[8])\n",
    "    allSvar.append(result[9])\n",
    "\n",
    "print(\"\")\n",
    "print(\" PERFORMANCE ESTIMATES: \")\n",
    "print(\"---------\")\n",
    "print(\"Interarrival mean:\", np.mean(allIA))\n",
    "print(\"W:\", np.mean(allW))\n",
    "print(\"Wq:\", np.mean(allWq))\n",
    "print(\"Ws:\", np.mean(allS))\n",
    "print(\"L:\", np.mean(allL))\n",
    "print(\"Lq:\", np.mean(allLq))\n",
    "print(\"Utilisation :\", np.mean(allUtil))\n",
    "print(\"Interarrival variance :\", np.mean(allIAvar))\n",
    "print(\"Ws variance :\", np.mean(allSvar))"
   ]
  },
  {
   "cell_type": "code",
   "execution_count": 9,
   "metadata": {},
   "outputs": [],
   "source": [
    "serviceTimes = G.serviceTimes\n",
    "interArrivalTimes = G.interArrivalTimes\n",
    "\n",
    "serviceBins = int(round(1 + np.log2(len(serviceTimes))))\n",
    "interArrivalBins = int(round(1 + np.log2(len(interArrivalTimes))))"
   ]
  },
  {
   "cell_type": "code",
   "execution_count": 10,
   "metadata": {},
   "outputs": [
    {
     "name": "stdout",
     "output_type": "stream",
     "text": [
      "Service Times:\n",
      "\n",
      "[12.735178660782143, 22.06169438237532, 15.36075115773595, 37.21350119598076, 29.85990872807323, 59.917649375645034, 12.255556511979508, 172.64023464443093, 98.79346171747866]\n"
     ]
    },
    {
     "data": {
      "image/png": "[encoded data removed]",
      "text/plain": [
       "<Figure size 432x288 with 1 Axes>"
      ]
     },
     "metadata": {
      "needs_background": "light"
     },
     "output_type": "display_data"
    }
   ],
   "source": [
    "#Service Histogram\n",
    "plt.hist(x=serviceTimes, bins=serviceBins, color='blue', alpha=0.7, rwidth=0.85)\n",
    "plt.grid(axis='y', alpha=0.75)\n",
    "plt.xlabel('Service Times (sec)')\n",
    "plt.ylabel('Frequency')\n",
    "plt.title('Service Time Histogram')\n",
    "plot = plt.plot();\n",
    "sample = serviceTimes[1:10]\n",
    "print(\"Service Times:\\n\")\n",
    "print(sample)"
   ]
  },
  {
   "cell_type": "code",
   "execution_count": 11,
   "metadata": {},
   "outputs": [
    {
     "name": "stdout",
     "output_type": "stream",
     "text": [
      "interarival times:\n",
      "\n",
      "[31.80420779277768, 41.725902734525775, 89.25856189247105, 37.730728386621074, 139.12589339762698, 19.294198210822582, 56.141268557360405, 140.17118919588754, 96.85422622125003]\n"
     ]
    },
    {
     "data": {
      "image/png": "[encoded data removed]",
      "text/plain": [
       "<Figure size 432x288 with 1 Axes>"
      ]
     },
     "metadata": {
      "needs_background": "light"
     },
     "output_type": "display_data"
    }
   ],
   "source": [
    "#Interarrival Histogram\n",
    "plt.hist(x=interArrivalTimes, bins=interArrivalBins, color='red', alpha=0.7, rwidth=0.85)\n",
    "plt.grid(axis='y', alpha=0.75)\n",
    "plt.xlabel('Interarrival Times (sec)')\n",
    "plt.ylabel('Frequency')\n",
    "plt.title('Interarrival times Histogram')\n",
    "plot2 = plt.plot();\n",
    "sample2 = interArrivalTimes[1:10]\n",
    "print(\"interarival times:\\n\")\n",
    "print(sample2)"
   ]
  }
 ],
 "metadata": {
  "kernelspec": {
   "display_name": "Python 3",
   "language": "python",
   "name": "python3"
  },
  "language_info": {
   "codemirror_mode": {
    "name": "ipython",
    "version": 3
   },
   "file_extension": ".py",
   "mimetype": "text/x-python",
   "name": "python",
   "nbconvert_exporter": "python",
   "pygments_lexer": "ipython3",
   "version": "3.8.5"
  }
 },
 "nbformat": 4,
 "nbformat_minor": 2
}

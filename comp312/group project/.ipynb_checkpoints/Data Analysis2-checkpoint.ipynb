{
 "cells": [
  {
   "cell_type": "code",
   "execution_count": 1,
   "metadata": {},
   "outputs": [],
   "source": [
    "import math\n",
    "import numpy as np\n",
    "import scipy.stats as ss\n",
    "import matplotlib.pyplot as plt"
   ]
  },
  {
   "cell_type": "code",
   "execution_count": 2,
   "metadata": {},
   "outputs": [],
   "source": [
    "\"\"\" data analysis with chi-square goodness of fit\"\"\"\n",
    "\n",
    "def obs_cts(n, data):\n",
    "    \"\"\" given: the data and number of bins\n",
    "        returns: the observed values and the bin edges as lists\"\"\"\n",
    "    events, edges = np.histogram(data, n)\n",
    "    return events.tolist() , edges.tolist()\n",
    "\n",
    "def exp_cts(n, data):\n",
    "    \"\"\" given: the data and number of bins\n",
    "        returns: the expected values and prob over each of the bins with\n",
    "        the necessary modification of the first and last bins\"\"\"\n",
    "    L=[]\n",
    "    P_bins =[]\n",
    "    for x in obs_cts(n,data)[1]:\n",
    "        L.append(rv.cdf(x))\n",
    "    P_bins.append(L[1])    \n",
    "    for i in range(1,len(L)-2):\n",
    "        P_bins.append(L[i+1]-L[i])    \n",
    "    P_bins.append(1-L[-2])\n",
    "    exp_cnt = [x * len(data) for x in P_bins]\n",
    "    return exp_cnt, P_bins\n",
    "\n",
    "def ind_bins_to_reduce(f_exp):\n",
    "    \"\"\" given: a list\n",
    "        returns: the indexes of the elements < 5\"\"\"\n",
    "    NC_to_red =[index for index,value in enumerate(f_exp) if value < 5]\n",
    "    return NC_to_red\n",
    "\n",
    "def one_reduce(f_exp, f_obs, f_edge):\n",
    "    \"\"\" given: lists of exp, obs, edges\n",
    "        returns: new lists with one reduced bin with value < 5 \"\"\"\n",
    "    BTR = ind_bins_to_reduce(f_exp)\n",
    "  \n",
    "    if (len(BTR)>1 or (len(BTR)==1 and BTR[0]!=0)):\n",
    "        f_exp[BTR[-1]-1] = f_exp[BTR[-1]-1]+f_exp[BTR[-1]]\n",
    "        f_obs[BTR[-1]-1] = f_obs[BTR[-1]-1]+f_obs[BTR[-1]]\n",
    "        del(f_edge[BTR[-1]])\n",
    "        del(f_obs[BTR[-1]])\n",
    "        del(f_exp[BTR[-1]])\n",
    "    else:\n",
    "        if BTR[0]==0:\n",
    "            f_exp[1]= f_exp[1]+f_exp[0]\n",
    "            f_obs[1]= f_obs[1]+f_obs[0]\n",
    "            del(f_edge[1])\n",
    "            del(f_obs[0])\n",
    "            del(f_exp[0])\n",
    "\n",
    "    f_expN = f_exp\n",
    "    f_obsN = f_obs\n",
    "    f_edgeN = f_edge\n",
    "    BTRN = ind_bins_to_reduce(f_expN)\n",
    "    return f_expN, f_obsN, f_edgeN, BTRN\n",
    "\n",
    "def all_reduce(f_expF, f_obsF, f_edgeF, BTRF):\n",
    "    \"\"\" finalizes the bin reduction \"\"\"\n",
    "    while BTRF !=[]:\n",
    "        u = one_reduce(f_expF, f_obsF, f_edgeF)\n",
    "        f_expF = u[0]\n",
    "        f_obsF = u[1]\n",
    "        f_edgeF = u[2]\n",
    "        BTRF = u[3]\n",
    "    return f_expF, f_obsF, f_edgeF, BTRF\n",
    "\n",
    "\n",
    "def model(data, n, dof):\n",
    "        \"\"\" given data, the number of bins (n) and the number of estimated parameters (dof)\n",
    "        produces the value of the chi-squate test statistics and the p-value\"\"\"\n",
    "\n",
    "        ## final expected count and final observed count after amalgamating bins\n",
    "        exp, obs = all_reduce(exp_cts(n, data)[0],obs_cts(n, data)[0],\n",
    "                obs_cts(n, data)[1], ind_bins_to_reduce(exp_cts(n, data)[0]))[0:2] \n",
    "        # build in chi-gof test, the last argument is the adjustment to the dof\n",
    "        result = ss.chisquare( np.asarray(obs), np.asarray(exp), dof) \n",
    "        return result "
   ]
  },
  {
   "cell_type": "code",
   "execution_count": 3,
   "metadata": {},
   "outputs": [],
   "source": [
    "def skipHeader(dataFile):\n",
    "    dataFile.readline()\n",
    "    dataFile.readline()\n",
    "    dataFile.readline()\n",
    "    dataFile.readline()\n",
    "    \n",
    "def readData(periods):\n",
    "    for i in range(1,11):\n",
    "        f = open('./Data/results' + str(i) + '.txt', 'r')\n",
    "        skipHeader(f) #Skips the four header lines at the time of the file.\n",
    "\n",
    "        arrivals = [] # Array of arrivals for a period of time\n",
    "        departures = [] # Array of departures for a period of time\n",
    "        startTime = float(f.readline()[0:-1].split('  ')[0])\n",
    "        endTime = None\n",
    "\n",
    "        for line in f:\n",
    "            observation = line[0:-1].split('  ')\n",
    "            if observation[1] == 'a':\n",
    "                arrivals.append(float(observation[0]))\n",
    "            elif observation[1] == 'd':\n",
    "                departures.append(float(observation[0]))\n",
    "            else:\n",
    "                endTime = float(observation[0])\n",
    "\n",
    "        periods.append([startTime, arrivals, departures, endTime])"
   ]
  },
  {
   "cell_type": "code",
   "execution_count": 4,
   "metadata": {},
   "outputs": [
    {
     "name": "stdout",
     "output_type": "stream",
     "text": [
      "42.50126948591549\n"
     ]
    }
   ],
   "source": [
    "periods = [] # Array containing periods of format [start time, arrivals, departures, end time]\n",
    "readData(periods)\n",
    "\n",
    "interArrivalTimes = []\n",
    "for p in periods:\n",
    "    for a in range(1, len(p[1])):\n",
    "        interArrivalTimes.append(p[1][a] - p[1][a - 1])        \n",
    "interArrivalBins = int(round(1 + np.log2(len(interArrivalTimes))))\n",
    "\n",
    "#serviceTimes = []\n",
    "#for p in periods:\n",
    "#    for d in range(1, len(p[2])):\n",
    "#        serviceTimes.append(p[2][d] - p[2][d - 1])\n",
    "#serviceBins = int(round(1 + np.log2(len(serviceTimes))))\n",
    "\n",
    "serviceTimes = []\n",
    "for p in periods:\n",
    "    serviceTimes.append(p[2][0]-p[1][0])\n",
    "    for i in range(1,len(p[2])):\n",
    "        if(p[2][i - 1] > p[1][i]):\n",
    "            serviceTimes.append(p[2][i] - p[2][i - 1])\n",
    "        else:\n",
    "            serviceTimes.append(p[2][i] - p[1][i])\n",
    "serviceBins = int(round(1 + np.log2(len(serviceTimes))))\n",
    "print(np.mean(serviceTimes))"
   ]
  },
  {
   "cell_type": "code",
   "execution_count": 5,
   "metadata": {},
   "outputs": [
    {
     "name": "stdout",
     "output_type": "stream",
     "text": [
      "mean = 58.28008368978102\n"
     ]
    },
    {
     "data": {
      "image/png": "[encoded data removed]",
      "text/plain": [
       "<Figure size 432x288 with 1 Axes>"
      ]
     },
     "metadata": {
      "needs_background": "light"
     },
     "output_type": "display_data"
    }
   ],
   "source": [
    "#Interarrival Histogram\n",
    "plt.hist(x=interArrivalTimes, bins=interArrivalBins, color='#0504aa', alpha=0.7, rwidth=0.85)\n",
    "plt.grid(axis='y', alpha=0.75)\n",
    "plt.xlabel('Interarrival Time (s)')\n",
    "plt.ylabel('Frequency')\n",
    "plt.title('Interarrival Histogram')\n",
    "plt.plot();\n",
    "print(\"mean =\",np.mean(interArrivalTimes))"
   ]
  },
  {
   "cell_type": "code",
   "execution_count": 6,
   "metadata": {},
   "outputs": [
    {
     "name": "stdout",
     "output_type": "stream",
     "text": [
      "mean = 42.50126948591549\n"
     ]
    },
    {
     "data": {
      "image/png": "[encoded data removed]",
      "text/plain": [
       "<Figure size 432x288 with 1 Axes>"
      ]
     },
     "metadata": {
      "needs_background": "light"
     },
     "output_type": "display_data"
    }
   ],
   "source": [
    "#Service Histogram\n",
    "plt.hist(x=serviceTimes, bins=serviceBins, color='#0504aa', alpha=0.7, rwidth=0.85)\n",
    "plt.grid(axis='y', alpha=0.75)\n",
    "plt.xlabel('Service Time (s)')\n",
    "plt.ylabel('Frequency')\n",
    "plt.title('Service Histogram')\n",
    "plt.plot();\n",
    "print(\"mean =\",np.mean(serviceTimes))"
   ]
  },
  {
   "cell_type": "code",
   "execution_count": 7,
   "metadata": {},
   "outputs": [
    {
     "name": "stdout",
     "output_type": "stream",
     "text": [
      "(0.0, 58.28008368978102)\n",
      "The chi_sq test value is   1.198479 and the p-value is   0.753369\n"
     ]
    }
   ],
   "source": [
    "#Goodness of fit for interarrival data with exponential distribution\n",
    "\n",
    "#parameter estimation \n",
    "params=ss.expon.fit(interArrivalTimes, floc=0)\n",
    "print(params)\n",
    "rv = ss.expon(params[0],params[1])\n",
    "# set the adjustment to dof (degree of freedom) = to the number of parameters estimated\n",
    "dof = 1\n",
    "\n",
    "# chose the number of bins\n",
    "n=int(round(1 + np.log2(len(interArrivalTimes))))\n",
    "##  experiment--------------------------------------------------\n",
    "    \n",
    "print (\"The chi_sq test value is %10.6f and the p-value is %10.6f\" % \n",
    "       (model(interArrivalTimes, n, dof)[0], model(interArrivalTimes,n,dof)[1]))"
   ]
  },
  {
   "cell_type": "code",
   "execution_count": 8,
   "metadata": {},
   "outputs": [
    {
     "ename": "AttributeError",
     "evalue": "'Rectangle' object has no property 'normed'",
     "output_type": "error",
     "traceback": [
      "\u001b[1;31m---------------------------------------------------------------------------\u001b[0m",
      "\u001b[1;31mAttributeError\u001b[0m                            Traceback (most recent call last)",
      "\u001b[1;32m<ipython-input-8-b07c5c59b74e>\u001b[0m in \u001b[0;36m<module>\u001b[1;34m\u001b[0m\n\u001b[1;32m----> 1\u001b[1;33m \u001b[0mmyHist\u001b[0m \u001b[1;33m=\u001b[0m \u001b[0mplt\u001b[0m\u001b[1;33m.\u001b[0m\u001b[0mhist\u001b[0m\u001b[1;33m(\u001b[0m\u001b[0minterArrivalTimes\u001b[0m\u001b[1;33m,\u001b[0m \u001b[0mint\u001b[0m\u001b[1;33m(\u001b[0m\u001b[0mround\u001b[0m\u001b[1;33m(\u001b[0m\u001b[1;36m1\u001b[0m \u001b[1;33m+\u001b[0m \u001b[0mnp\u001b[0m\u001b[1;33m.\u001b[0m\u001b[0mlog2\u001b[0m\u001b[1;33m(\u001b[0m\u001b[0mlen\u001b[0m\u001b[1;33m(\u001b[0m\u001b[0minterArrivalTimes\u001b[0m\u001b[1;33m)\u001b[0m\u001b[1;33m)\u001b[0m\u001b[1;33m)\u001b[0m\u001b[1;33m)\u001b[0m\u001b[1;33m,\u001b[0m \u001b[0mnormed\u001b[0m\u001b[1;33m=\u001b[0m\u001b[1;32mTrue\u001b[0m\u001b[1;33m)\u001b[0m\u001b[1;33m\u001b[0m\u001b[1;33m\u001b[0m\u001b[0m\n\u001b[0m\u001b[0;32m      2\u001b[0m \u001b[0mx\u001b[0m \u001b[1;33m=\u001b[0m \u001b[0mnp\u001b[0m\u001b[1;33m.\u001b[0m\u001b[0mlinspace\u001b[0m\u001b[1;33m(\u001b[0m\u001b[1;36m0.001\u001b[0m\u001b[1;33m,\u001b[0m\u001b[1;36m500\u001b[0m\u001b[1;33m)\u001b[0m\u001b[1;33m\u001b[0m\u001b[1;33m\u001b[0m\u001b[0m\n\u001b[0;32m      3\u001b[0m \u001b[0mh\u001b[0m \u001b[1;33m=\u001b[0m \u001b[0mplt\u001b[0m\u001b[1;33m.\u001b[0m\u001b[0mplot\u001b[0m\u001b[1;33m(\u001b[0m\u001b[0mx\u001b[0m\u001b[1;33m,\u001b[0m \u001b[0mrv\u001b[0m\u001b[1;33m.\u001b[0m\u001b[0mpdf\u001b[0m\u001b[1;33m(\u001b[0m\u001b[0mx\u001b[0m\u001b[1;33m)\u001b[0m\u001b[1;33m,\u001b[0m \u001b[0mlw\u001b[0m\u001b[1;33m=\u001b[0m\u001b[1;36m2\u001b[0m\u001b[1;33m)\u001b[0m\u001b[1;33m\u001b[0m\u001b[1;33m\u001b[0m\u001b[0m\n",
      "\u001b[1;32mC:\\ProgramData\\Anaconda3\\lib\\site-packages\\matplotlib\\pyplot.py\u001b[0m in \u001b[0;36mhist\u001b[1;34m(x, bins, range, density, weights, cumulative, bottom, histtype, align, orientation, rwidth, log, color, label, stacked, data, **kwargs)\u001b[0m\n\u001b[0;32m   2683\u001b[0m         \u001b[0morientation\u001b[0m\u001b[1;33m=\u001b[0m\u001b[1;34m'vertical'\u001b[0m\u001b[1;33m,\u001b[0m \u001b[0mrwidth\u001b[0m\u001b[1;33m=\u001b[0m\u001b[1;32mNone\u001b[0m\u001b[1;33m,\u001b[0m \u001b[0mlog\u001b[0m\u001b[1;33m=\u001b[0m\u001b[1;32mFalse\u001b[0m\u001b[1;33m,\u001b[0m \u001b[0mcolor\u001b[0m\u001b[1;33m=\u001b[0m\u001b[1;32mNone\u001b[0m\u001b[1;33m,\u001b[0m\u001b[1;33m\u001b[0m\u001b[1;33m\u001b[0m\u001b[0m\n\u001b[0;32m   2684\u001b[0m         label=None, stacked=False, *, data=None, **kwargs):\n\u001b[1;32m-> 2685\u001b[1;33m     return gca().hist(\n\u001b[0m\u001b[0;32m   2686\u001b[0m         \u001b[0mx\u001b[0m\u001b[1;33m,\u001b[0m \u001b[0mbins\u001b[0m\u001b[1;33m=\u001b[0m\u001b[0mbins\u001b[0m\u001b[1;33m,\u001b[0m \u001b[0mrange\u001b[0m\u001b[1;33m=\u001b[0m\u001b[0mrange\u001b[0m\u001b[1;33m,\u001b[0m \u001b[0mdensity\u001b[0m\u001b[1;33m=\u001b[0m\u001b[0mdensity\u001b[0m\u001b[1;33m,\u001b[0m \u001b[0mweights\u001b[0m\u001b[1;33m=\u001b[0m\u001b[0mweights\u001b[0m\u001b[1;33m,\u001b[0m\u001b[1;33m\u001b[0m\u001b[1;33m\u001b[0m\u001b[0m\n\u001b[0;32m   2687\u001b[0m         \u001b[0mcumulative\u001b[0m\u001b[1;33m=\u001b[0m\u001b[0mcumulative\u001b[0m\u001b[1;33m,\u001b[0m \u001b[0mbottom\u001b[0m\u001b[1;33m=\u001b[0m\u001b[0mbottom\u001b[0m\u001b[1;33m,\u001b[0m \u001b[0mhisttype\u001b[0m\u001b[1;33m=\u001b[0m\u001b[0mhisttype\u001b[0m\u001b[1;33m,\u001b[0m\u001b[1;33m\u001b[0m\u001b[1;33m\u001b[0m\u001b[0m\n",
      "\u001b[1;32mC:\\ProgramData\\Anaconda3\\lib\\site-packages\\matplotlib\\__init__.py\u001b[0m in \u001b[0;36minner\u001b[1;34m(ax, data, *args, **kwargs)\u001b[0m\n\u001b[0;32m   1436\u001b[0m     \u001b[1;32mdef\u001b[0m \u001b[0minner\u001b[0m\u001b[1;33m(\u001b[0m\u001b[0max\u001b[0m\u001b[1;33m,\u001b[0m \u001b[1;33m*\u001b[0m\u001b[0margs\u001b[0m\u001b[1;33m,\u001b[0m \u001b[0mdata\u001b[0m\u001b[1;33m=\u001b[0m\u001b[1;32mNone\u001b[0m\u001b[1;33m,\u001b[0m \u001b[1;33m**\u001b[0m\u001b[0mkwargs\u001b[0m\u001b[1;33m)\u001b[0m\u001b[1;33m:\u001b[0m\u001b[1;33m\u001b[0m\u001b[1;33m\u001b[0m\u001b[0m\n\u001b[0;32m   1437\u001b[0m         \u001b[1;32mif\u001b[0m \u001b[0mdata\u001b[0m \u001b[1;32mis\u001b[0m \u001b[1;32mNone\u001b[0m\u001b[1;33m:\u001b[0m\u001b[1;33m\u001b[0m\u001b[1;33m\u001b[0m\u001b[0m\n\u001b[1;32m-> 1438\u001b[1;33m             \u001b[1;32mreturn\u001b[0m \u001b[0mfunc\u001b[0m\u001b[1;33m(\u001b[0m\u001b[0max\u001b[0m\u001b[1;33m,\u001b[0m \u001b[1;33m*\u001b[0m\u001b[0mmap\u001b[0m\u001b[1;33m(\u001b[0m\u001b[0msanitize_sequence\u001b[0m\u001b[1;33m,\u001b[0m \u001b[0margs\u001b[0m\u001b[1;33m)\u001b[0m\u001b[1;33m,\u001b[0m \u001b[1;33m**\u001b[0m\u001b[0mkwargs\u001b[0m\u001b[1;33m)\u001b[0m\u001b[1;33m\u001b[0m\u001b[1;33m\u001b[0m\u001b[0m\n\u001b[0m\u001b[0;32m   1439\u001b[0m \u001b[1;33m\u001b[0m\u001b[0m\n\u001b[0;32m   1440\u001b[0m         \u001b[0mbound\u001b[0m \u001b[1;33m=\u001b[0m \u001b[0mnew_sig\u001b[0m\u001b[1;33m.\u001b[0m\u001b[0mbind\u001b[0m\u001b[1;33m(\u001b[0m\u001b[0max\u001b[0m\u001b[1;33m,\u001b[0m \u001b[1;33m*\u001b[0m\u001b[0margs\u001b[0m\u001b[1;33m,\u001b[0m \u001b[1;33m**\u001b[0m\u001b[0mkwargs\u001b[0m\u001b[1;33m)\u001b[0m\u001b[1;33m\u001b[0m\u001b[1;33m\u001b[0m\u001b[0m\n",
      "\u001b[1;32mC:\\ProgramData\\Anaconda3\\lib\\site-packages\\matplotlib\\axes\\_axes.py\u001b[0m in \u001b[0;36mhist\u001b[1;34m(self, x, bins, range, density, weights, cumulative, bottom, histtype, align, orientation, rwidth, log, color, label, stacked, **kwargs)\u001b[0m\n\u001b[0;32m   6818\u001b[0m             \u001b[1;32mif\u001b[0m \u001b[0mpatch\u001b[0m\u001b[1;33m:\u001b[0m\u001b[1;33m\u001b[0m\u001b[1;33m\u001b[0m\u001b[0m\n\u001b[0;32m   6819\u001b[0m                 \u001b[0mp\u001b[0m \u001b[1;33m=\u001b[0m \u001b[0mpatch\u001b[0m\u001b[1;33m[\u001b[0m\u001b[1;36m0\u001b[0m\u001b[1;33m]\u001b[0m\u001b[1;33m\u001b[0m\u001b[1;33m\u001b[0m\u001b[0m\n\u001b[1;32m-> 6820\u001b[1;33m                 \u001b[0mp\u001b[0m\u001b[1;33m.\u001b[0m\u001b[0mupdate\u001b[0m\u001b[1;33m(\u001b[0m\u001b[0mkwargs\u001b[0m\u001b[1;33m)\u001b[0m\u001b[1;33m\u001b[0m\u001b[1;33m\u001b[0m\u001b[0m\n\u001b[0m\u001b[0;32m   6821\u001b[0m                 \u001b[1;32mif\u001b[0m \u001b[0mlbl\u001b[0m \u001b[1;32mis\u001b[0m \u001b[1;32mnot\u001b[0m \u001b[1;32mNone\u001b[0m\u001b[1;33m:\u001b[0m\u001b[1;33m\u001b[0m\u001b[1;33m\u001b[0m\u001b[0m\n\u001b[0;32m   6822\u001b[0m                     \u001b[0mp\u001b[0m\u001b[1;33m.\u001b[0m\u001b[0mset_label\u001b[0m\u001b[1;33m(\u001b[0m\u001b[0mlbl\u001b[0m\u001b[1;33m)\u001b[0m\u001b[1;33m\u001b[0m\u001b[1;33m\u001b[0m\u001b[0m\n",
      "\u001b[1;32mC:\\ProgramData\\Anaconda3\\lib\\site-packages\\matplotlib\\artist.py\u001b[0m in \u001b[0;36mupdate\u001b[1;34m(self, props)\u001b[0m\n\u001b[0;32m    994\u001b[0m                     \u001b[0mfunc\u001b[0m \u001b[1;33m=\u001b[0m \u001b[0mgetattr\u001b[0m\u001b[1;33m(\u001b[0m\u001b[0mself\u001b[0m\u001b[1;33m,\u001b[0m \u001b[1;34mf\"set_{k}\"\u001b[0m\u001b[1;33m,\u001b[0m \u001b[1;32mNone\u001b[0m\u001b[1;33m)\u001b[0m\u001b[1;33m\u001b[0m\u001b[1;33m\u001b[0m\u001b[0m\n\u001b[0;32m    995\u001b[0m                     \u001b[1;32mif\u001b[0m \u001b[1;32mnot\u001b[0m \u001b[0mcallable\u001b[0m\u001b[1;33m(\u001b[0m\u001b[0mfunc\u001b[0m\u001b[1;33m)\u001b[0m\u001b[1;33m:\u001b[0m\u001b[1;33m\u001b[0m\u001b[1;33m\u001b[0m\u001b[0m\n\u001b[1;32m--> 996\u001b[1;33m                         raise AttributeError(f\"{type(self).__name__!r} object \"\n\u001b[0m\u001b[0;32m    997\u001b[0m                                              f\"has no property {k!r}\")\n\u001b[0;32m    998\u001b[0m                     \u001b[0mret\u001b[0m\u001b[1;33m.\u001b[0m\u001b[0mappend\u001b[0m\u001b[1;33m(\u001b[0m\u001b[0mfunc\u001b[0m\u001b[1;33m(\u001b[0m\u001b[0mv\u001b[0m\u001b[1;33m)\u001b[0m\u001b[1;33m)\u001b[0m\u001b[1;33m\u001b[0m\u001b[1;33m\u001b[0m\u001b[0m\n",
      "\u001b[1;31mAttributeError\u001b[0m: 'Rectangle' object has no property 'normed'"
     ]
    },
    {
     "data": {
      "image/png": "[encoded data removed]",
      "text/plain": [
       "<Figure size 432x288 with 1 Axes>"
      ]
     },
     "metadata": {
      "needs_background": "light"
     },
     "output_type": "display_data"
    }
   ],
   "source": [
    "myHist = plt.hist(interArrivalTimes, int(round(1 + np.log2(len(interArrivalTimes)))), normed=True)\n",
    "x = np.linspace(0.001,500) \n",
    "h = plt.plot(x, rv.pdf(x), lw=2)"
   ]
  },
  {
   "cell_type": "code",
   "execution_count": null,
   "metadata": {},
   "outputs": [],
   "source": [
    "#Goodness of fit for interarrival data with gamma distribution\n",
    "\n",
    "#parameter estimation \n",
    "params=ss.gamma.fit(interArrivalTimes, floc=0)\n",
    "print(params)\n",
    "rv = ss.gamma(params[0],params[1],params[2])\n",
    "    \n",
    "# set the adjustment to dof (degree of freedom) = to the number of parameters estimated\n",
    "dof = 2\n",
    "\n",
    "# chose the number of bins\n",
    "n=int(round(1 + np.log2(len(interArrivalTimes))))\n",
    "\n",
    "##  experiment--------------------------------------------------\n",
    "    \n",
    "print (\"The chi_sq test value is %10.6f and the p-value is %10.6f\" % \n",
    "       (model(interArrivalTimes, n, dof)[0], model(interArrivalTimes,n,dof)[1]))"
   ]
  },
  {
   "cell_type": "code",
   "execution_count": null,
   "metadata": {},
   "outputs": [],
   "source": [
    "#Goodness of fit for interarrival data with erlang distribution\n",
    "\n",
    "#parameter estimation \n",
    "params=ss.erlang.fit(interArrivalTimes, floc=0)\n",
    "print(params)\n",
    "\n",
    "rv = ss.erlang(round(params[0]),params[1],params[2])\n",
    "    \n",
    "# set the adjustment to dof (degree of freedom) = to the number of parameters estimated\n",
    "dof = 2\n",
    "\n",
    "# chose the number of bins\n",
    "n=int(round(1 + np.log2(len(interArrivalTimes))))\n",
    "\n",
    "##  experiment--------------------------------------------------\n",
    "    \n",
    "print (\"The chi_sq test value is %10.6f and the p-value is %10.6f\" % \n",
    "       (model(interArrivalTimes, n, dof)[0], model(interArrivalTimes,n,dof)[1]))"
   ]
  },
  {
   "cell_type": "code",
   "execution_count": null,
   "metadata": {},
   "outputs": [],
   "source": [
    "#Goodness of fit for service data with exponential distribution\n",
    "\n",
    "#parameter estimation \n",
    "params=ss.expon.fit(serviceTimes, floc=0)\n",
    "print(params)\n",
    "rv = ss.expon(params[0],params[1])\n",
    "    \n",
    "# set the adjustment to dof (degree of freedom) = to the number of parameters estimated\n",
    "dof = 1\n",
    "\n",
    "# chose the number of bins\n",
    "n=int(round(1 + np.log2(len(serviceTimes))))\n",
    "##  experiment--------------------------------------------------\n",
    "    \n",
    "print (\"The chi_sq test value is %10.6f and the p-value is %10.6f\" % \n",
    "       (model(serviceTimes, n, dof)[0], model(serviceTimes,n,dof)[1]))"
   ]
  },
  {
   "cell_type": "code",
   "execution_count": null,
   "metadata": {},
   "outputs": [],
   "source": [
    "#Goodness of fit for service data with gamma distribution\n",
    "\n",
    "#parameter estimation \n",
    "params=ss.gamma.fit(serviceTimes, floc=0)\n",
    "print(params)\n",
    "rv = ss.gamma(params[0],params[1],params[2])\n",
    "    \n",
    "# set the adjustment to dof (degree of freedom) = to the number of parameters estimated\n",
    "dof = 2\n",
    "\n",
    "# chose the number of bins\n",
    "n=int(round(1 + np.log2(len(serviceTimes))))\n",
    "\n",
    "##  experiment--------------------------------------------------\n",
    "    \n",
    "print (\"The chi_sq test value is %10.6f and the p-value is %10.6f\" % \n",
    "       (model(serviceTimes, n, dof)[0], model(serviceTimes,n,dof)[1]))"
   ]
  },
  {
   "cell_type": "code",
   "execution_count": null,
   "metadata": {},
   "outputs": [],
   "source": [
    "#Goodness of fit for service data with erlang distribution\n",
    "\n",
    "#parameter estimation \n",
    "params=ss.erlang.fit(serviceTimes, floc=0)\n",
    "print(params)\n",
    "\n",
    "rv = ss.erlang(round(params[0]),params[1],params[2])\n",
    "    \n",
    "# set the adjustment to dof (degree of freedom) = to the number of parameters estimated\n",
    "dof = 2\n",
    "\n",
    "# chose the number of bins\n",
    "n=int(round(1 + np.log2(len(serviceTimes))))\n",
    "print(params[1])\n",
    "##  experiment--------------------------------------------------\n",
    "    \n",
    "print (\"The chi_sq test value is %10.6f and the p-value is %10.6f\" % \n",
    "       (model(serviceTimes, n, dof)[0], model(serviceTimes,n,dof)[1]))"
   ]
  },
  {
   "cell_type": "code",
   "execution_count": null,
   "metadata": {},
   "outputs": [],
   "source": [
    "myHist = plt.hist(serviceTimes, int(round(1 + np.log2(len(serviceTimes)))), normed=True)\n",
    "x = np.linspace(0.001,500) \n",
    "h = plt.plot(x, rv.pdf(x), lw=2)"
   ]
  },
  {
   "cell_type": "code",
   "execution_count": null,
   "metadata": {
    "scrolled": false
   },
   "outputs": [],
   "source": [
    "#Observed W\n",
    "allW = []\n",
    "for p in periods:\n",
    "    wTimes = []\n",
    "    for d in range(1, len(p[2])):\n",
    "        wTimes.append(p[2][d] - p[1][d])\n",
    "    allW.append(np.mean(wTimes))\n",
    "\n",
    "\n",
    "arrivalrate = 1/(np.mean(interArrivalTimes))\n",
    "servicerate = 1/(np.mean(serviceTimes))\n",
    "intensity = arrivalrate/servicerate\n",
    "\n",
    "#Estimated Arrival Rate\n",
    "print(\"Estimated arrival rate:\",arrivalrate)\n",
    "print(\"Estimated service rate:\",servicerate)\n",
    "print(\"Estimated W:\",np.mean(allW))\n",
    "print(\"Estimated Ws:\",np.mean(serviceTimes))\n",
    "\n",
    "print(\"\")\n",
    "print(\"Estimated traffic intensity:\",arrivalrate/servicerate)\n",
    "\n",
    "#Observed L\n",
    "allL = []\n",
    "\n",
    "\n",
    "\n",
    "#Average customers per period (NOT L)\n",
    "arrN = []\n",
    "for p in periods:\n",
    "    arrN.append(len(p[2]))\n",
    "    \n",
    "print(\"\\nAverage customers per period:\",np.mean(arrN))"
   ]
  }
 ],
 "metadata": {
  "kernelspec": {
   "display_name": "Python 3",
   "language": "python",
   "name": "python3"
  },
  "language_info": {
   "codemirror_mode": {
    "name": "ipython",
    "version": 3
   },
   "file_extension": ".py",
   "mimetype": "text/x-python",
   "name": "python",
   "nbconvert_exporter": "python",
   "pygments_lexer": "ipython3",
   "version": "3.8.5"
  }
 },
 "nbformat": 4,
 "nbformat_minor": 4
}

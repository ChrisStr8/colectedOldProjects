{
 "cells": [
  {
   "cell_type": "code",
   "execution_count": 1,
   "metadata": {},
   "outputs": [],
   "source": [
    "import math\n",
    "import numpy as np\n",
    "import scipy.stats as ss\n",
    "import matplotlib.pyplot as plt"
   ]
  },
  {
   "cell_type": "code",
   "execution_count": 2,
   "metadata": {},
   "outputs": [],
   "source": [
    "def skipHeader(dataFile):\n",
    "    dataFile.readline()\n",
    "    dataFile.readline()\n",
    "    dataFile.readline()\n",
    "    dataFile.readline()\n",
    "    \n",
    "def readData(periods):\n",
    "    for i in range(1,11):\n",
    "        f = open('./Data/results' + str(i) + '.txt', 'r')\n",
    "        skipHeader(f) #Skips the four header lines at the time of the file.\n",
    "\n",
    "        arrivals = [] # Array of arrivals for a period of time\n",
    "        departures = [] # Array of departures for a period of time\n",
    "        startTime = float(f.readline()[0:-1].split('  ')[0])\n",
    "        endTime = None\n",
    "\n",
    "        for line in f:\n",
    "            observation = line[0:-1].split('  ')\n",
    "            if observation[1] == 'a':\n",
    "                arrivals.append(float(observation[0]))\n",
    "            elif observation[1] == 'd':\n",
    "                departures.append(float(observation[0]))\n",
    "            else:\n",
    "                endTime = float(observation[0])\n",
    "\n",
    "        periods.append([startTime, arrivals, departures, endTime])"
   ]
  },
  {
   "cell_type": "code",
   "execution_count": 3,
   "metadata": {},
   "outputs": [],
   "source": [
    "periods = [] # Array containing periods of format [start time, arrivals, departures, end time]\n",
    "readData(periods)\n",
    "\n",
    "interArrivalTimes = []\n",
    "for p in periods:\n",
    "    for a in range(1, len(p[1])):\n",
    "        interArrivalTimes.append(p[1][a] - p[1][a - 1])        \n",
    "interArrivalBins = int(round(1 + np.log2(len(interArrivalTimes))))\n",
    "\n",
    "#serviceTimes = []\n",
    "#for p in periods:\n",
    "#    for d in range(1, len(p[2])):\n",
    "#        serviceTimes.append(p[2][d] - p[2][d - 1])\n",
    "#serviceBins = int(round(1 + np.log2(len(serviceTimes))))\n",
    "\n",
    "serviceTimes = []\n",
    "for p in periods:\n",
    "    serviceTimes.append(p[2][0]-p[1][0])\n",
    "    for i in range(1,len(p[2])):\n",
    "        if(p[2][i - 1] > p[1][i]):\n",
    "            serviceTimes.append(p[2][i] - p[2][i - 1])\n",
    "        else:\n",
    "            serviceTimes.append(p[2][i] - p[1][i])\n",
    "serviceBins = int(round(1 + np.log2(len(serviceTimes))))"
   ]
  },
  {
   "cell_type": "code",
   "execution_count": 4,
   "metadata": {},
   "outputs": [
    {
     "name": "stdout",
     "output_type": "stream",
     "text": [
      "Observed interarrival mean: 58.28008368978102\n",
      "Observed W: 101.97299506516548\n",
      "Observed Wq: 59.82186408450678\n",
      "Observed Ws: 42.50126948591549\n",
      "Observed L:\n",
      "Observed Lq:\n",
      "Observed utilisation: 0.7292588959230984\n",
      "\n",
      "Average customers per period: 28.4\n"
     ]
    }
   ],
   "source": [
    "#Observed W\n",
    "allW = []\n",
    "for p in periods:\n",
    "    wTimes = []\n",
    "    for d in range(1, len(p[2])):\n",
    "        wTimes.append(p[2][d] - p[1][d])\n",
    "    allW.append(np.mean(wTimes))\n",
    "\n",
    "#Observed Wq\n",
    "Wq = []\n",
    "for p in periods:\n",
    "    Wq.append(0)\n",
    "    for i in range(1,len(p[2])):\n",
    "        if(p[2][i - 1] > p[1][i]):\n",
    "            Wq.append(p[2][i - 1] - p[1][i])\n",
    "        else:\n",
    "            Wq.append(0)\n",
    "            \n",
    "#Observed L            \n",
    "arrivalrate = 1/(np.mean(interArrivalTimes))\n",
    "servicerate = 1/(np.mean(serviceTimes))\n",
    "intensity = arrivalrate/servicerate\n",
    "\n",
    "#Observations\n",
    "print(\"Observed interarrival mean:\", np.mean(interArrivalTimes))\n",
    "print(\"Observed W:\",np.mean(allW))\n",
    "print(\"Observed Wq:\",np.mean(Wq))\n",
    "print(\"Observed Ws:\",np.mean(serviceTimes))\n",
    "print(\"Observed L:\",)\n",
    "print(\"Observed Lq:\",)\n",
    "print(\"Observed utilisation:\",arrivalrate/servicerate)\n",
    "\n",
    "#Average customers per period (NOT L)\n",
    "arrN = []\n",
    "for p in periods:\n",
    "    arrN.append(len(p[2]))\n",
    "    \n",
    "print(\"\\nAverage customers per period:\",np.mean(arrN))"
   ]
  }
 ],
 "metadata": {
  "kernelspec": {
   "display_name": "Python 3",
   "language": "python",
   "name": "python3"
  },
  "language_info": {
   "codemirror_mode": {
    "name": "ipython",
    "version": 3
   },
   "file_extension": ".py",
   "mimetype": "text/x-python",
   "name": "python",
   "nbconvert_exporter": "python",
   "pygments_lexer": "ipython3",
   "version": "3.8.5"
  }
 },
 "nbformat": 4,
 "nbformat_minor": 4
}

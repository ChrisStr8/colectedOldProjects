{
 "cells": [
  {
   "cell_type": "code",
   "execution_count": 1,
   "metadata": {},
   "outputs": [],
   "source": [
    "from SimPy.Simulation import *\n",
    "import math\n",
    "import random\n",
    "import numpy as np\n",
    "import scipy.stats as ss\n",
    "import matplotlib.pyplot as plt"
   ]
  },
  {
   "cell_type": "code",
   "execution_count": 2,
   "metadata": {},
   "outputs": [],
   "source": [
    "def skipHeader(dataFile):\n",
    "    dataFile.readline()\n",
    "    dataFile.readline()\n",
    "    dataFile.readline()\n",
    "    dataFile.readline()\n",
    "    \n",
    "def readData(periods):\n",
    "    for i in range(1,11):\n",
    "        f = open('./Data/results' + str(i) + '.txt', 'r')\n",
    "        skipHeader(f) #Skips the four header lines at the time of the file.\n",
    "\n",
    "        arrivals = [] # Array of arrivals for a period of time\n",
    "        departures = [] # Array of departures for a period of time\n",
    "        startTime = float(f.readline()[0:-1].split('  ')[0])\n",
    "        endTime = None\n",
    "\n",
    "        for line in f:\n",
    "            observation = line[0:-1].split('  ')\n",
    "            if observation[1] == 'a':\n",
    "                arrivals.append(float(observation[0]))\n",
    "            elif observation[1] == 'd':\n",
    "                departures.append(float(observation[0]))\n",
    "            else:\n",
    "                endTime = float(observation[0])\n",
    "\n",
    "        periods.append([startTime, arrivals, departures, endTime])"
   ]
  },
  {
   "cell_type": "code",
   "execution_count": 3,
   "metadata": {},
   "outputs": [
    {
     "name": "stdout",
     "output_type": "stream",
     "text": [
      "42.50126948591549\n"
     ]
    }
   ],
   "source": [
    "periods = [] # Array containing periods of format [start time, arrivals, departures, end time]\n",
    "readData(periods)\n",
    "\n",
    "interArrivalTimes = []\n",
    "for p in periods:\n",
    "    for a in range(1, len(p[1])):\n",
    "        interArrivalTimes.append(p[1][a] - p[1][a - 1])        \n",
    "interArrivalBins = int(round(1 + np.log2(len(interArrivalTimes))))\n",
    "\n",
    "#serviceTimes = []\n",
    "#for p in periods:\n",
    "#    for d in range(1, len(p[2])):\n",
    "#        serviceTimes.append(p[2][d] - p[2][d - 1])\n",
    "#serviceBins = int(round(1 + np.log2(len(serviceTimes))))\n",
    "\n",
    "serviceTimes = []\n",
    "for p in periods:\n",
    "    serviceTimes.append(p[2][0]-p[1][0])\n",
    "    for i in range(1,len(p[2])):\n",
    "        if(p[2][i - 1] > p[1][i]):\n",
    "            serviceTimes.append(p[2][i] - p[2][i - 1])\n",
    "        else:\n",
    "            serviceTimes.append(p[2][i] - p[1][i])\n",
    "serviceBins = int(round(1 + np.log2(len(serviceTimes))))\n",
    "mean = np.mean(serviceTimes)\n",
    "print(mean)"
   ]
  },
  {
   "cell_type": "code",
   "execution_count": 4,
   "metadata": {},
   "outputs": [],
   "source": [
    "## Model ##\n",
    "\n",
    "class Source(Process):\n",
    "    \"\"\"generate random arrivals\"\"\"\n",
    "    def run(self, N):\n",
    "        for i in range(N):\n",
    "            a = Arrival(str(i))\n",
    "            activate(a, a.run())\n",
    "            t = random.expovariate(1/mean)\n",
    "            yield hold, self, t"
   ]
  },
  {
   "cell_type": "code",
   "execution_count": 5,
   "metadata": {},
   "outputs": [],
   "source": [
    "class Arrival(Process):\n",
    "    \"\"\"an arrival\"\"\"\n",
    "    n = 0 # number in system\n",
    "    q = 0 # number in queue\n",
    "    \n",
    "    def run(self):\n",
    "        Arrival.n += 1\n",
    "        Arrival.q += 1\n",
    "        arrivetime = now()\n",
    "        G.arrivalmon.observe(now())\n",
    "        G.numbermon.observe(Arrival.n)\n",
    "        G.qnumbermon.observe(Arrival.q)\n",
    "        \n",
    "        yield request, self, G.server\n",
    "        Arrival.q += -1\n",
    "        G.qnumbermon.observe(Arrival.q)\n",
    "        G.queuetimemon.observe(now() - arrivetime)\n",
    "        \n",
    "        t = random.expovariate(1/42.50126948591549)\n",
    "        \n",
    "        G.servicemon.observe(t)\n",
    "        G.servicesquaredmon.observe(t**2)\n",
    "        yield hold, self, t\n",
    "        yield release, self, G.server\n",
    "        \n",
    "        Arrival.n -= 1\n",
    "        G.numbermon.observe(Arrival.n)\n",
    "        delay = now()-arrivetime\n",
    "        G.delaymon.observe(delay)\n",
    "        \n",
    "        #print now(), \"Observed delay\", delay"
   ]
  },
  {
   "cell_type": "code",
   "execution_count": 6,
   "metadata": {},
   "outputs": [],
   "source": [
    "class G:\n",
    "    server = 'dummy'\n",
    "    delaymon = 'Monitor'\n",
    "    servicemon = 'Monitor'\n",
    "    servicesquaredmon = 'Monitor'\n",
    "    numbermon = 'Monitor'\n",
    "    arrivalmon = 'Monitor'\n",
    "    departuremon = 'Monitor'\n",
    "    queuetimemon = 'Monitor'\n",
    "    \n",
    "    interarrivals = []"
   ]
  },
  {
   "cell_type": "code",
   "execution_count": 7,
   "metadata": {},
   "outputs": [],
   "source": [
    "def model(c, N, maxtime, rvseed):\n",
    "    # setup\n",
    "    initialize()\n",
    "    random.seed(rvseed)\n",
    "    G.server = Resource(c, monitored=True)\n",
    "    G.delaymon = Monitor()\n",
    "    G.servicemon = Monitor()\n",
    "    G.servicesquaredmon = Monitor()\n",
    "    G.numbermon = Monitor()\n",
    "    G.arrivalmon = Monitor()\n",
    "    G.departuremon = Monitor()\n",
    "    G.queuetimemon = Monitor()\n",
    "    G.qnumbermon = Monitor()\n",
    "    \n",
    "    # simulate\n",
    "    s = Source('Source')\n",
    "    activate(s, s.run(N))\n",
    "    simulate(until=maxtime)\n",
    "   \n",
    "    # gather performance measures\n",
    "    W = G.delaymon.mean()\n",
    "    L = G.numbermon.timeAverage()\n",
    "    Lq = G.qnumbermon.timeAverage()\n",
    "    S = G.servicemon.mean()\n",
    "    Svar = G.servicemon.var()\n",
    "    S2 = G.servicesquaredmon.mean()\n",
    "    util = G.server.actMon.timeAverage()\n",
    "    Wq = G.queuetimemon.mean()\n",
    "    \n",
    "    # interarrival mean and variance\n",
    "    G.interarrivals = []\n",
    "    arrivals = G.arrivalmon.tseries()\n",
    "    for a in range(1,len(arrivals)):\n",
    "        interarrivals.append(arrivals[a] - arrivals[a - 1])\n",
    "    IA = np.mean(G.interarrivals)\n",
    "    IAvar = np.var(interarrivals)\n",
    "    \n",
    "    return(W,S,S2,L,util,IA,Wq,Lq,IAvar,Svar)"
   ]
  },
  {
   "cell_type": "code",
   "execution_count": 8,
   "metadata": {},
   "outputs": [
    {
     "name": "stdout",
     "output_type": "stream",
     "text": [
      "Doing 10th iteration\n",
      "Doing 20th iteration\n",
      "Doing 30th iteration\n",
      "Doing 40th iteration\n",
      "\n",
      " PERFORMANCE ESTIMATES: \n",
      "---------\n",
      "Interarrival mean: 42.2678908796959\n",
      "W: 186.21997651774743\n",
      "Wq: 142.83243197940928\n",
      "Ws: 43.38754453833814\n",
      "L: 3.6991852964835097\n",
      "Lq: 2.8395102973900608\n",
      "Utilisation : 0.8596749990934495\n",
      "Interarrival variance : 1777.5455058733185\n",
      "Ws variance : 1871.59283365422\n"
     ]
    }
   ],
   "source": [
    "## Experiment ##\n",
    "\n",
    "allW = []\n",
    "allWq = []\n",
    "allS = []\n",
    "allL = []\n",
    "allLq = []\n",
    "allUtil = []\n",
    "allIA = []\n",
    "allIAvar = []\n",
    "allSvar = []\n",
    "\n",
    "for i in range(50):\n",
    "    if i == 9:\n",
    "        print(\"Doing\", str(i + 1) + \"th\", \"iteration\")\n",
    "    elif i == 19:\n",
    "        print(\"Doing\", str(i + 1) + \"th\", \"iteration\")\n",
    "    elif i == 29:\n",
    "        print(\"Doing\", str(i + 1) + \"th\", \"iteration\")\n",
    "    elif i ==39:\n",
    "        print(\"Doing\", str(i + 1) + \"th\", \"iteration\")\n",
    "        \n",
    "    result = model(c=1, N=30, maxtime=2000000000, rvseed=123*i)\n",
    "    \n",
    "    allW.append(result[0])\n",
    "    allS.append(result[1])\n",
    "    allL.append(result[3])\n",
    "    allUtil.append(result[4])\n",
    "    allIA.append(result[5])\n",
    "    allWq.append(result[6])\n",
    "    allLq.append(result[7])\n",
    "    allIAvar.append(result[8])\n",
    "    allSvar.append(result[9])\n",
    "\n",
    "print(\"\")\n",
    "print(\" PERFORMANCE ESTIMATES: \")\n",
    "print(\"---------\")\n",
    "print(\"Interarrival mean:\", np.mean(allIA))\n",
    "print(\"W:\", np.mean(allW))\n",
    "print(\"Wq:\", np.mean(allWq))\n",
    "print(\"Ws:\", np.mean(allS))\n",
    "print(\"L:\", np.mean(allL))\n",
    "print(\"Lq:\", np.mean(allLq))\n",
    "print(\"Utilisation :\", np.mean(allUtil))\n",
    "print(\"Interarrival variance :\", np.mean(allIAvar))\n",
    "print(\"Ws variance :\", np.mean(allSvar))"
   ]
  },
  {
   "cell_type": "code",
   "execution_count": 9,
   "metadata": {},
   "outputs": [
    {
     "ename": "NameError",
     "evalue": "name 'interarrivals' is not defined",
     "output_type": "error",
     "traceback": [
      "\u001b[1;31m---------------------------------------------------------------------------\u001b[0m",
      "\u001b[1;31mNameError\u001b[0m                                 Traceback (most recent call last)",
      "\u001b[1;32m<ipython-input-9-1c56c20a6a0d>\u001b[0m in \u001b[0;36m<module>\u001b[1;34m\u001b[0m\n\u001b[0;32m      1\u001b[0m \u001b[0mserviceTimes\u001b[0m \u001b[1;33m=\u001b[0m \u001b[0mG\u001b[0m\u001b[1;33m.\u001b[0m\u001b[0mservicemon\u001b[0m\u001b[1;33m.\u001b[0m\u001b[0myseries\u001b[0m\u001b[1;33m(\u001b[0m\u001b[1;33m)\u001b[0m\u001b[1;33m\u001b[0m\u001b[1;33m\u001b[0m\u001b[0m\n\u001b[1;32m----> 2\u001b[1;33m \u001b[0minterArrivalTimes\u001b[0m \u001b[1;33m=\u001b[0m \u001b[0minterarrivals\u001b[0m\u001b[1;33m\u001b[0m\u001b[1;33m\u001b[0m\u001b[0m\n\u001b[0m\u001b[0;32m      3\u001b[0m \u001b[1;33m\u001b[0m\u001b[0m\n\u001b[0;32m      4\u001b[0m \u001b[0mserviceBins\u001b[0m \u001b[1;33m=\u001b[0m \u001b[0mint\u001b[0m\u001b[1;33m(\u001b[0m\u001b[0mround\u001b[0m\u001b[1;33m(\u001b[0m\u001b[1;36m1\u001b[0m \u001b[1;33m+\u001b[0m \u001b[0mnp\u001b[0m\u001b[1;33m.\u001b[0m\u001b[0mlog2\u001b[0m\u001b[1;33m(\u001b[0m\u001b[0mlen\u001b[0m\u001b[1;33m(\u001b[0m\u001b[0mserviceTimes\u001b[0m\u001b[1;33m)\u001b[0m\u001b[1;33m)\u001b[0m\u001b[1;33m)\u001b[0m\u001b[1;33m)\u001b[0m\u001b[1;33m\u001b[0m\u001b[1;33m\u001b[0m\u001b[0m\n\u001b[0;32m      5\u001b[0m \u001b[0minterArrivalBins\u001b[0m \u001b[1;33m=\u001b[0m \u001b[0mint\u001b[0m\u001b[1;33m(\u001b[0m\u001b[0mround\u001b[0m\u001b[1;33m(\u001b[0m\u001b[1;36m1\u001b[0m \u001b[1;33m+\u001b[0m \u001b[0mnp\u001b[0m\u001b[1;33m.\u001b[0m\u001b[0mlog2\u001b[0m\u001b[1;33m(\u001b[0m\u001b[0mlen\u001b[0m\u001b[1;33m(\u001b[0m\u001b[0minterArrivalTimes\u001b[0m\u001b[1;33m)\u001b[0m\u001b[1;33m)\u001b[0m\u001b[1;33m)\u001b[0m\u001b[1;33m)\u001b[0m\u001b[1;33m\u001b[0m\u001b[1;33m\u001b[0m\u001b[0m\n",
      "\u001b[1;31mNameError\u001b[0m: name 'interarrivals' is not defined"
     ]
    }
   ],
   "source": [
    "serviceTimes = G.servicemon.yseries()\n",
    "interArrivalTimes = interarrivals\n",
    "\n",
    "serviceBins = int(round(1 + np.log2(len(serviceTimes))))\n",
    "interArrivalBins = int(round(1 + np.log2(len(interArrivalTimes))))"
   ]
  },
  {
   "cell_type": "code",
   "execution_count": null,
   "metadata": {},
   "outputs": [],
   "source": [
    "#Service Histogram\n",
    "plt.hist(x=serviceTimes, bins=serviceBins, color='#0504aa', alpha=0.7, rwidth=0.85)\n",
    "plt.grid(axis='y', alpha=0.75)\n",
    "plt.xlabel('Service Time (s)')\n",
    "plt.ylabel('Frequency')\n",
    "plt.title('Service Histogram')\n",
    "plt.plot();\n",
    "\n",
    "print(\"Service Times:\\n\")\n",
    "print(serviceTimes)"
   ]
  },
  {
   "cell_type": "code",
   "execution_count": null,
   "metadata": {},
   "outputs": [],
   "source": [
    "#Interarrival Histogram\n",
    "plt.hist(x=interArrivalTimes, bins=interArrivalBins, color='#0504aa', alpha=0.7, rwidth=0.85)\n",
    "plt.grid(axis='y', alpha=0.75)\n",
    "plt.xlabel('Interarrival Time (s)')\n",
    "plt.ylabel('Frequency')\n",
    "plt.title('Interarrival Histogram')\n",
    "plt.plot();\n",
    "\n",
    "print(\"interarival times:\\n\")\n",
    "print(interArrivalTimes)"
   ]
  }
 ],
 "metadata": {
  "kernelspec": {
   "display_name": "Python 3",
   "language": "python",
   "name": "python3"
  },
  "language_info": {
   "codemirror_mode": {
    "name": "ipython",
    "version": 3
   },
   "file_extension": ".py",
   "mimetype": "text/x-python",
   "name": "python",
   "nbconvert_exporter": "python",
   "pygments_lexer": "ipython3",
   "version": "3.8.5"
  }
 },
 "nbformat": 4,
 "nbformat_minor": 2
}

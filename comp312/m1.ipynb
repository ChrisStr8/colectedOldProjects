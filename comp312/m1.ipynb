{
 "cells": [
  {
   "cell_type": "code",
   "execution_count": 1,
   "metadata": {},
   "outputs": [
    {
     "ename": "SyntaxError",
     "evalue": "invalid syntax (<ipython-input-1-781cb6e9817f>, line 75)",
     "output_type": "error",
     "traceback": [
      "\u001b[1;36m  File \u001b[1;32m\"<ipython-input-1-781cb6e9817f>\"\u001b[1;36m, line \u001b[1;32m75\u001b[0m\n\u001b[1;33m    print \"Arrival rate (per hour):\",R\u001b[0m\n\u001b[1;37m                                   ^\u001b[0m\n\u001b[1;31mSyntaxError\u001b[0m\u001b[1;31m:\u001b[0m invalid syntax\n"
     ]
    }
   ],
   "source": [
    "\"\"\"(m1.py) Model of small shop with balking\"\"\"\n",
    "\n",
    "from SimPy.Simulation import *\n",
    "import random\n",
    "import numpy\n",
    "import math\n",
    "\n",
    "## Useful extras ----------\n",
    "def conf(L):\n",
    "    \"\"\"confidence interval\"\"\"\n",
    "    lower = numpy.mean(L) - 1.96*numpy.std(L)/math.sqrt(len(L))\n",
    "    upper = numpy.mean(L) + 1.96*numpy.std(L)/math.sqrt(len(L))\n",
    "    return (lower,upper)\n",
    "\n",
    "## Model ----------\n",
    "class Source(Process):\n",
    "    \"\"\"generate random arrivals\"\"\"\n",
    "    def run(self, N, lamb):\n",
    "        for i in range(N):\n",
    "            a = Arrival(str(i))\n",
    "            activate(a, a.run())\n",
    "            t = random.expovariate(lamb)\n",
    "            yield hold, self, t\n",
    "\n",
    "class Arrival(Process):\n",
    "    \"\"\"an arrival\"\"\"\n",
    "\n",
    "    def run(self):\n",
    "        num_in_system = len(G.server.waitQ)+len(G.server.activeQ)\n",
    "        if (num_in_system>=3):\n",
    "            G.balkmon.observe(1)\n",
    "        else:\n",
    "            G.balkmon.observe(0)\n",
    "            yield request, self, G.server\n",
    "            if (random.random()<0.4):\n",
    "                # child\n",
    "                t = random.uniform(1,5)\n",
    "            else:\n",
    "                # adult\n",
    "                t = random.uniform(2,8)\n",
    "            yield hold, self, t\n",
    "            yield release, self, G.server\n",
    "\n",
    "class G:\n",
    "    server = 'dummy'\n",
    "    balkmon = 'Monitor'\n",
    "\n",
    "def model(c, N, lamb, maxtime, rvseed):\n",
    "    # setup\n",
    "    initialize()\n",
    "    random.seed(rvseed)\n",
    "    G.server = Resource(c)\n",
    "    G.balkmon = Monitor()\n",
    "   \n",
    "    # simulate\n",
    "    s = Source('Source')\n",
    "    activate(s, s.run(N, lamb))\n",
    "    simulate(until=maxtime)\n",
    "\n",
    "    # gather performance measures\n",
    "    Prop_balk = G.balkmon.mean()\n",
    "    Rate_balk = G.balkmon.total()/now()\n",
    "    return(Prop_balk,Rate_balk)\n",
    "\n",
    "## Experiment ----------------\n",
    "for R in range(10,21):\n",
    "    allProp_balk = []\n",
    "    allRate_balk = []\n",
    "    for k in range(50):\n",
    "        seed = 123*k\n",
    "        result = model(c=1, N=10000, lamb=R/60.0,\n",
    "                      maxtime=2000000, rvseed=seed)\n",
    "        allProp_balk.append(result[0])\n",
    "        allRate_balk.append(result[1])\n",
    "    print \"Arrival rate (per hour):\",R\n",
    "    print \"    Estimate of prop balk:\",numpy.mean(allProp_balk)\n",
    "    print \"    Conf int of prop balk:\",conf(allProp_balk)\n",
    "    print \"    Estimate of rate balk:\",numpy.mean(allRate_balk)\n",
    "    print \"    Conf int of rate balk:\",conf(allRate_balk)\n"
   ]
  },
  {
   "cell_type": "code",
   "execution_count": null,
   "metadata": {
    "collapsed": true
   },
   "outputs": [],
   "source": []
  }
 ],
 "metadata": {
  "kernelspec": {
   "display_name": "Python 3",
   "language": "python",
   "name": "python3"
  },
  "language_info": {
   "codemirror_mode": {
    "name": "ipython",
    "version": 3
   },
   "file_extension": ".py",
   "mimetype": "text/x-python",
   "name": "python",
   "nbconvert_exporter": "python",
   "pygments_lexer": "ipython3",
   "version": "3.8.5"
  }
 },
 "nbformat": 4,
 "nbformat_minor": 2
}

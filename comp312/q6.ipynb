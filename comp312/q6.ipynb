{
 "cells": [
  {
   "cell_type": "code",
   "execution_count": 2,
   "metadata": {},
   "outputs": [
    {
     "name": "stdout",
     "output_type": "stream",
     "text": [
      "Service times:\n",
      "\n",
      "(0.06141925443818422, 0.08072068298398319, 0.23148915446894425, 0.08174670665640571, 0.05748620930082159, 0.09827457314816287, 0.2952873764067431, 0.24422765952063172, 0.11602499967195132, 0.32836066732166724, 0.11705570996467347, 0.2406074168069659, 0.19744399927343295, 0.2171753419351639, 0.28739689656094314, 0.05015977987476573, 0.19160945860647904, 0.1259643866527879, 0.05723699179858774, 0.12609989216034093, 0.10820031212126002, 0.10195168475906521, 0.3684716954455296, 0.4320108532755533, 0.09270383828342971, 0.5410935744664773, 0.035936183755936, 0.07512958135128789, 0.06603288201295375, 0.05032547876320646)\n",
      "Service times squared:\n",
      "\n",
      "(0.0037723248157424116, 0.006515828661400713, 0.05358722863674673, 0.006682524049168446, 0.003304664259777867, 0.009657891727453615, 0.08719463466517757, 0.05964714967492561, 0.013461800548876303, 0.10782072784393062, 0.013702039235333757, 0.057891929022521015, 0.038984132849087395, 0.047165129144655364, 0.08259697615286145, 0.0025160035170849527, 0.036714184627468005, 0.015867026704813048, 0.0032760732301516, 0.01590118280284961, 0.011707307543138088, 0.01039414602521181, 0.1357713903445031, 0.1866333773478716, 0.008594001632480287, 0.29278225632890925, 0.0012914093029403983, 0.005644453994019785, 0.004360341506936671, 0.002532653812745945)\n",
      "\n",
      "Estimate of W: 0.2976495554685774\n",
      "Estimate of E[tau]: 0.16925477472621117\n",
      "Estimate of E[tau^2]: 0.044199026333626094\n"
     ]
    }
   ],
   "source": [
    "\"\"\"(q6.py) M/G/c queueing system with service time monitors\"\"\"\n",
    "\n",
    "from SimPy.Simulation import *\n",
    "import random\n",
    "\n",
    "## Erlang distribution ----------\n",
    "def erlangvariate(k,mu):\n",
    "    \"\"\"random variate from an Erlang(k,mu) distribution\"\"\"\n",
    "    result = 0.0\n",
    "    for i in range(k):\n",
    "        result += random.expovariate(mu)\n",
    "    return result\n",
    "\n",
    "## Model ----------\n",
    "class Source(Process):\n",
    "    \"\"\"generate random arrivals\"\"\"\n",
    "    def run(self, N, lamb, k, mu):\n",
    "        for i in range(N):\n",
    "            a = Arrival(str(i))\n",
    "            activate(a, a.run(k, mu))\n",
    "            t = random.expovariate(lamb)\n",
    "            yield hold, self, t\n",
    "\n",
    "class Arrival(Process):\n",
    "    \"\"\"an arrival\"\"\"\n",
    "    def run(self, k, mu):\n",
    "        arrivetime = now()\n",
    "        yield request, self, G.server\n",
    "        t = erlangvariate(k,mu)\n",
    "        G.servicemon.observe(t)\n",
    "        G.servicesquaredmon.observe(t**2)\n",
    "        yield hold, self, t\n",
    "        yield release, self, G.server\n",
    "        delay = now()-arrivetime\n",
    "        G.delaymon.observe(delay)\n",
    "        #print(now(), \"Observed delay\", delay)\n",
    "\n",
    "\n",
    "class G:\n",
    "    server = 'dummy'\n",
    "    delaymon = 'Monitor'\n",
    "    servicemon = 'Monitor'\n",
    "    servicesquaredmon = 'Monitor'\n",
    "    \n",
    "def model(c, N, lamb, k, mu, maxtime, rvseed):\n",
    "    # setup\n",
    "    initialize()\n",
    "    random.seed(rvseed)\n",
    "    G.server = Resource(c)\n",
    "    G.delaymon = Monitor()\n",
    "    G.servicemon = Monitor()\n",
    "    G.servicesquaredmon = Monitor()\n",
    "   \n",
    "    # simulate\n",
    "    s = Source('Source')\n",
    "    activate(s, s.run(N, lamb, k, mu))\n",
    "    simulate(until=maxtime)\n",
    "   \n",
    "    # gather performance measures\n",
    "    W = G.delaymon.mean()\n",
    "    S = G.servicemon.mean()\n",
    "    S2 = G.servicesquaredmon.mean()\n",
    "    \n",
    "    print(\"Service times:\\n\")\n",
    "    print(G.servicemon.yseries())\n",
    "    print(\"Service times squared:\\n\")\n",
    "    print(G.servicesquaredmon.yseries())\n",
    "    return(W,S,S2)\n",
    "\n",
    "## Experiment ----------------\n",
    "result = model(c=1, N=30, lamb=3, k=2, mu=10,\n",
    "               maxtime=2000000, rvseed=123)\n",
    "print(\"\")\n",
    "print(\"Estimate of W:\",result[0])\n",
    "print(\"Estimate of E[tau]:\",result[1])\n",
    "print(\"Estimate of E[tau^2]:\",result[2])\n"
   ]
  },
  {
   "cell_type": "code",
   "execution_count": null,
   "metadata": {
    "collapsed": true
   },
   "outputs": [],
   "source": []
  }
 ],
 "metadata": {
  "kernelspec": {
   "display_name": "Python 3",
   "language": "python",
   "name": "python3"
  },
  "language_info": {
   "codemirror_mode": {
    "name": "ipython",
    "version": 3
   },
   "file_extension": ".py",
   "mimetype": "text/x-python",
   "name": "python",
   "nbconvert_exporter": "python",
   "pygments_lexer": "ipython3",
   "version": "3.8.5"
  }
 },
 "nbformat": 4,
 "nbformat_minor": 2
}

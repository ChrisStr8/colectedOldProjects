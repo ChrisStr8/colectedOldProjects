{
 "cells": [
  {
   "cell_type": "code",
   "execution_count": 6,
   "metadata": {},
   "outputs": [],
   "source": [
    "from SimPy.Simulation import *\n",
    "## Model components --------------------\n",
    "class ArtLover(Process):\n",
    "    \"\"\"An art lover\"\"\"\n",
    "    def walk(self):\n",
    "        print(now(),self.name,'Here I am')\n",
    "        for picture in range(Npictures):\n",
    "            yield hold, self, lookTime\n",
    "            print(now(),self.name,'Very nice')\n",
    "        print(now(),self.name,'How Refreshing!')\n",
    "            \n",
    "## Experiment data ----------------------\n",
    "Npictures=20\n",
    "lookTime=2.5\n",
    "\n",
    "## Experiment ---------------------------\n",
    "initialize()\n",
    "klaus=ArtLover('Klaus')\n",
    "activate(klaus, klaus.walk(), now())\n",
    "simulate(until=2000)"
   ]
  },
  {
   "cell_type": "code",
   "execution_count": null,
   "metadata": {},
   "outputs": [],
   "source": []
  }
 ],
 "metadata": {
  "kernelspec": {
   "display_name": "Python 3",
   "language": "python",
   "name": "python3"
  },
  "language_info": {
   "codemirror_mode": {
    "name": "ipython",
    "version": 3
   },
   "file_extension": ".py",
   "mimetype": "text/x-python",
   "name": "python",
   "nbconvert_exporter": "python",
   "pygments_lexer": "ipython3",
   "version": "3.6.3"
  }
 },
 "nbformat": 4,
 "nbformat_minor": 2
}

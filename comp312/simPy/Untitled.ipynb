{
 "cells": [
  {
   "cell_type": "code",
   "execution_count": 7,
   "metadata": {},
   "outputs": [
    {
     "name": "stdout",
     "output_type": "stream",
     "text": [
      "0 Klaus Here I am\n",
      "2.5 Klaus Very nice\n",
      "5.0 Klaus Very nice\n",
      "7.5 Klaus Very nice\n",
      "10.0 Klaus Very nice\n",
      "12.5 Klaus Very nice\n",
      "15.0 Klaus Very nice\n",
      "17.5 Klaus Very nice\n",
      "20.0 Klaus Very nice\n",
      "22.5 Klaus Very nice\n",
      "25.0 Klaus Very nice\n",
      "27.5 Klaus Very nice\n",
      "30.0 Klaus Very nice\n",
      "32.5 Klaus Very nice\n",
      "35.0 Klaus Very nice\n",
      "37.5 Klaus Very nice\n",
      "40.0 Klaus Very nice\n",
      "42.5 Klaus Very nice\n",
      "45.0 Klaus Very nice\n",
      "47.5 Klaus Very nice\n",
      "50.0 Klaus Very nice\n",
      "50.0 Klaus How Refreshing!\n"
     ]
    },
    {
     "data": {
      "text/plain": [
       "'SimPy: No more events at time 50.0'"
      ]
     },
     "execution_count": 7,
     "metadata": {},
     "output_type": "execute_result"
    }
   ],
   "source": [
    "from SimPy.Simulation import *\n",
    "## Model components --------------------\n",
    "class ArtLover(Process):\n",
    "    \"\"\"An art lover\"\"\"\n",
    "    def walk(self):\n",
    "        print(now(),self.name,'Here I am')\n",
    "        for picture in range(Npictures):\n",
    "            yield hold, self, lookTime\n",
    "            print(now(),self.name,'Very nice')\n",
    "        print(now(),self.name,'How Refreshing!')\n",
    "            \n",
    "## Experiment data ----------------------\n",
    "Npictures=20\n",
    "lookTime=2.5\n",
    "\n",
    "## Experiment ---------------------------\n",
    "initialize()\n",
    "klaus=ArtLover('Klaus')\n",
    "activate(klaus, klaus.walk(), now())\n",
    "simulate(until=2000)"
   ]
  },
  {
   "cell_type": "code",
   "execution_count": null,
   "metadata": {},
   "outputs": [],
   "source": []
  }
 ],
 "metadata": {
  "kernelspec": {
   "display_name": "Python 3",
   "language": "python",
   "name": "python3"
  },
  "language_info": {
   "codemirror_mode": {
    "name": "ipython",
    "version": 3
   },
   "file_extension": ".py",
   "mimetype": "text/x-python",
   "name": "python",
   "nbconvert_exporter": "python",
   "pygments_lexer": "ipython3",
   "version": "3.6.3"
  }
 },
 "nbformat": 4,
 "nbformat_minor": 2
}
